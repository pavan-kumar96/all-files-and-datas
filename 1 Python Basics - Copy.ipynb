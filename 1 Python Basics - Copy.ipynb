{
 "cells": [
  {
   "cell_type": "code",
   "execution_count": 1,
   "metadata": {},
   "outputs": [
    {
     "ename": "SyntaxError",
     "evalue": "invalid syntax (<ipython-input-1-5c14a188667c>, line 1)",
     "output_type": "error",
     "traceback": [
      "\u001b[1;36m  File \u001b[1;32m\"<ipython-input-1-5c14a188667c>\"\u001b[1;36m, line \u001b[1;32m1\u001b[0m\n\u001b[1;33m    => jupyter notebook operations:\u001b[0m\n\u001b[1;37m    ^\u001b[0m\n\u001b[1;31mSyntaxError\u001b[0m\u001b[1;31m:\u001b[0m invalid syntax\n"
     ]
    }
   ],
   "source": [
    "=> jupyter notebook operations:\n",
    "    -ctrl + enter => excegute the cell\n",
    "    - shift + enter => excegute and create a new cell\n",
    "    - esc+a => Creates new cell above\n",
    "    -esc+b=> Creates new cell below\n",
    "    \n"
   ]
  },
  {
   "cell_type": "code",
   "execution_count": null,
   "metadata": {},
   "outputs": [],
   "source": [
    "Modes of Excegution:\n",
    "    - intercative:  cmd python and quit()\n",
    "    - Scriptting code: create .py file and cmd run it format(  python filename.py )\n",
    "    - IDE ctrl + enter"
   ]
  },
  {
   "cell_type": "code",
   "execution_count": null,
   "metadata": {},
   "outputs": [],
   "source": [
    "Data types:\n",
    "    - int    => 50,60..                           => immutable => non-iterable\n",
    "    - float  => decimal values i.e 10.22,12.33 .. => immutable => non-iterable\n",
    "    - tuple  => a = (39,22,3,4,)                  => immutable => iterable\n",
    "    -str     => \"abdbdbdf\"                        => immutable => iterable\n",
    "    - list   => [3,4,4,2,4,4]                     => mutuable  => iterable \n",
    "    - dic    => {2:3,3:4,4:5}                     => mutuable  => iterable\n",
    "    - set    => {2,3,4,5,4}                       => mutable   => iterable\n",
    "    - boolean=> True, False                       => immutable  => non-iterable"
   ]
  },
  {
   "cell_type": "code",
   "execution_count": 13,
   "metadata": {},
   "outputs": [
    {
     "name": "stdout",
     "output_type": "stream",
     "text": [
      "<class 'list'>\n",
      "[1, 2, 3]\n",
      "955473356104\n",
      "[1, 2, 3, 10]\n",
      "955473356104\n"
     ]
    }
   ],
   "source": [
    "f = [1,2,3]\n",
    "print(type(f))\n",
    "print(f)\n",
    "print(id(f))\n",
    "f.append(10)\n",
    "print(f)\n",
    "print(id(f))\n"
   ]
  },
  {
   "cell_type": "code",
   "execution_count": null,
   "metadata": {},
   "outputs": [],
   "source": [
    "Mutable: add/upadate/del the values in same memory location\n",
    "immutable : cann't add or upadate the values in same memory location.\n",
    "iterable => collection of values or elements are called as iterable data type\n",
    "non-iterable => if data is not a collection of values or elements is called non-iterable data type"
   ]
  },
  {
   "cell_type": "code",
   "execution_count": 3,
   "metadata": {},
   "outputs": [
    {
     "name": "stdout",
     "output_type": "stream",
     "text": [
      "<class 'int'>\n",
      "140731418324464\n"
     ]
    }
   ],
   "source": [
    "# How to get data type and address or memory location of any variable\n",
    "#data type\n",
    "a = 100\n",
    "print(type(a))\n",
    "# memory location\n",
    "a = 100\n",
    "print(id(a))"
   ]
  },
  {
   "cell_type": "code",
   "execution_count": 36,
   "metadata": {},
   "outputs": [
    {
     "name": "stdout",
     "output_type": "stream",
     "text": [
      "140731237772784\n",
      "140731237772784\n",
      "19529374576\n",
      "19529374992\n"
     ]
    }
   ],
   "source": [
    "# upto to the int 0-256 the memory location will be same after 257 memory will be different.\n",
    "# integers from value from 257 the mem location will cahnge\n",
    "#object intering\n",
    "num1 =  100\n",
    "num2 = 100\n",
    "print(id(num1))\n",
    "print(id(num2))\n",
    "# memory location will be assigned based on the value not on the referance.\n",
    "# when we need swiping of values we can just change the referance.\n",
    "# swiping is very easy in python whereas in java it is a very lenthy process.\n",
    "n\n",
    "num3 = 500\n",
    "print(id(num3))\n",
    "num4 = 500\n",
    "print(id(num4))"
   ]
  },
  {
   "cell_type": "code",
   "execution_count": null,
   "metadata": {},
   "outputs": [],
   "source": [
    "\n",
    "Naming conventios for variables: \n",
    "    1. Underscore casing  fisrtName = \"ABC\" first_name = \"ABC\"\n",
    "    2. Should start with alpha , digits are allowed but not at the start\n",
    "    3. Lower cases for variables and Upper for constants\n",
    "    "
   ]
  },
  {
   "cell_type": "code",
   "execution_count": 37,
   "metadata": {},
   "outputs": [
    {
     "name": "stdout",
     "output_type": "stream",
     "text": [
      "The Zen of Python, by Tim Peters\n",
      "\n",
      "Beautiful is better than ugly.\n",
      "Explicit is better than implicit.\n",
      "Simple is better than complex.\n",
      "Complex is better than complicated.\n",
      "Flat is better than nested.\n",
      "Sparse is better than dense.\n",
      "Readability counts.\n",
      "Special cases aren't special enough to break the rules.\n",
      "Although practicality beats purity.\n",
      "Errors should never pass silently.\n",
      "Unless explicitly silenced.\n",
      "In the face of ambiguity, refuse the temptation to guess.\n",
      "There should be one-- and preferably only one --obvious way to do it.\n",
      "Although that way may not be obvious at first unless you're Dutch.\n",
      "Now is better than never.\n",
      "Although never is often better than *right* now.\n",
      "If the implementation is hard to explain, it's a bad idea.\n",
      "If the implementation is easy to explain, it may be a good idea.\n",
      "Namespaces are one honking great idea -- let's do more of those!\n"
     ]
    }
   ],
   "source": [
    "import this"
   ]
  },
  {
   "cell_type": "code",
   "execution_count": null,
   "metadata": {},
   "outputs": [],
   "source": [
    "Operators:\n",
    "    - Arthamatic operators => +,-,%,/,*,//, floor division, **\n",
    "    - comparison operators=> ==, =>, =< ,< ,>\n",
    "    -Membership operators => in, in not\n",
    "    - identity operator => is, is not"
   ]
  },
  {
   "cell_type": "code",
   "execution_count": 39,
   "metadata": {},
   "outputs": [
    {
     "name": "stdout",
     "output_type": "stream",
     "text": [
      "10\n",
      "0\n",
      "25\n",
      "1.0\n",
      "3125\n",
      "1\n"
     ]
    }
   ],
   "source": [
    "#Arthamatic operator\n",
    "a = 5\n",
    "print(a+a)\n",
    "print(a-a)\n",
    "print(a*a)\n",
    "print(a/a)\n",
    "print(a**a)\n",
    "print(a//a)    # prints the round off value"
   ]
  },
  {
   "cell_type": "code",
   "execution_count": 48,
   "metadata": {},
   "outputs": [
    {
     "name": "stdout",
     "output_type": "stream",
     "text": [
      "5\n",
      "Equal\n",
      "equal\n"
     ]
    }
   ],
   "source": [
    "#comparison operators:\n",
    "a =5\n",
    "b=5\n",
    "if a== b:\n",
    "    print(a)\n",
    "if a>b:\n",
    "    print(not equal)\n",
    "if  a<b:\n",
    "    print(not equal)\n",
    "if a<=b:\n",
    "    print(\"Equal\")\n",
    "if a>=b:\n",
    "    print(\"equal\")"
   ]
  },
  {
   "cell_type": "code",
   "execution_count": 49,
   "metadata": {},
   "outputs": [
    {
     "name": "stdout",
     "output_type": "stream",
     "text": [
      "not valid one\n"
     ]
    }
   ],
   "source": [
    "#Membership operators:\n",
    "a = [100,2,4,5,6,7]\n",
    "b = 3\n",
    "if b in a:\n",
    "    print(\"valid one\")\n",
    "elif b not in a:\n",
    "    print(\"not valid one\")"
   ]
  },
  {
   "cell_type": "code",
   "execution_count": 50,
   "metadata": {},
   "outputs": [
    {
     "name": "stdout",
     "output_type": "stream",
     "text": [
      "True\n",
      "False\n"
     ]
    }
   ],
   "source": [
    "# identity operators\n",
    "a = 100\n",
    "b =100 \n",
    "print(a  is b)# supports only non iterable data types\n",
    "a = [1,2,3]\n",
    "b = [1,2,3]\n",
    "print(a is b) # doesn't supports iterable data type"
   ]
  },
  {
   "cell_type": "code",
   "execution_count": 53,
   "metadata": {},
   "outputs": [
    {
     "name": "stdout",
     "output_type": "stream",
     "text": [
      "Enter the character: w\n",
      "the character is consonent\n",
      "e\n",
      "The character is vowel\n"
     ]
    }
   ],
   "source": [
    "# if else statements:\n",
    "#1. find if given character is vowel or consonent\n",
    "# Aprroach 1\n",
    "a = input(\"Enter the character: \")\n",
    "if a == \"a\" or a== \"e\" or a == \"i\" or a == \"o\" or a ==\"u\":\n",
    "    print(\"The character is a vowel\")\n",
    "else:\n",
    "    print(\"the character is consonent\")\n",
    "    \n",
    "#Approach 2\n",
    "\n",
    "b = input ()\n",
    "c = [\"a\",\"i\",\"e\",\"o\",\"u\"]\n",
    "if b in c:\n",
    "    print(\"The character is vowel\")\n",
    "else:\n",
    "    print(\"The character is not vowel\")\n"
   ]
  },
  {
   "cell_type": "code",
   "execution_count": 60,
   "metadata": {},
   "outputs": [
    {
     "name": "stdout",
     "output_type": "stream",
     "text": [
      "97\n"
     ]
    }
   ],
   "source": [
    "print(ord(\"a\"))"
   ]
  },
  {
   "cell_type": "code",
   "execution_count": 72,
   "metadata": {},
   "outputs": [
    {
     "ename": "SyntaxError",
     "evalue": "can't assign to function call (<ipython-input-72-6daeac9e5078>, line 4)",
     "output_type": "error",
     "traceback": [
      "\u001b[1;36m  File \u001b[1;32m\"<ipython-input-72-6daeac9e5078>\"\u001b[1;36m, line \u001b[1;32m4\u001b[0m\n\u001b[1;33m    ord(value) = 4 + ord(value)\u001b[0m\n\u001b[1;37m    ^\u001b[0m\n\u001b[1;31mSyntaxError\u001b[0m\u001b[1;31m:\u001b[0m can't assign to function call\n"
     ]
    }
   ],
   "source": [
    "Zer0 => False, \" \", [],{}, zero\n",
    "non Zero => True`   "
   ]
  },
  {
   "cell_type": "code",
   "execution_count": 76,
   "metadata": {},
   "outputs": [
    {
     "name": "stdout",
     "output_type": "stream",
     "text": [
      "10 even  square is 100\n",
      "15   odd cube is 3375\n",
      "20 even  square is 400\n",
      "25   odd cube is 15625\n",
      "30 even  square is 900\n",
      "45   odd cube is 91125\n"
     ]
    }
   ],
   "source": [
    "# Session 5 Looping statements:\n",
    "l = [10,15,20,25,30,45]\n",
    "# even => sqr\n",
    "# odd => cube\n",
    "for value in l:\n",
    "    if value%2 == 0:\n",
    "        print(value ,\"even  square is\", value **2)\n",
    "    else:\n",
    "         print(value ,\"  odd cube is\", value **3)\n"
   ]
  },
  {
   "cell_type": "code",
   "execution_count": 78,
   "metadata": {},
   "outputs": [
    {
     "name": "stdout",
     "output_type": "stream",
     "text": [
      "150\n"
     ]
    }
   ],
   "source": [
    "#sum of first numbers\n",
    "l = [10,20,30,40,50]\n",
    "sum = 0\n",
    "for i in l:\n",
    "    sum+=i\n",
    "print(sum)"
   ]
  },
  {
   "cell_type": "code",
   "execution_count": 83,
   "metadata": {},
   "outputs": [
    {
     "name": "stdout",
     "output_type": "stream",
     "text": [
      "Given number is a not perfect number\n"
     ]
    }
   ],
   "source": [
    "# perfect numbers\n",
    "num = 8\n",
    "sum = 0\n",
    "possible_divisors = [1,2,3,4,5]\n",
    "for value in possible_divisors:\n",
    "    if value%2 == 0:\n",
    "        sum += value\n",
    "if sum == num:\n",
    "    print(\"given number is a perfect number\")\n",
    "else:\n",
    "    print(\"Given number is a not perfect number\")\n",
    "    \n",
    "    "
   ]
  },
  {
   "cell_type": "code",
   "execution_count": 90,
   "metadata": {},
   "outputs": [
    {
     "name": "stdout",
     "output_type": "stream",
     "text": [
      "The element is not present\n"
     ]
    }
   ],
   "source": [
    "l = [10,20,30,40,50,60,70]\n",
    "key = 500\n",
    "flag  = False\n",
    "for  value in l:\n",
    "   \n",
    "    if key == value:\n",
    "        flag = True\n",
    "        break\n",
    "    else:\n",
    "        continue\n",
    "if flag:\n",
    "    print(\"the element is present\")\n",
    "else:\n",
    "    print(\"The element is not present\")"
   ]
  },
  {
   "cell_type": "code",
   "execution_count": 97,
   "metadata": {},
   "outputs": [
    {
     "name": "stdout",
     "output_type": "stream",
     "text": [
      "the value is present at index 4\n"
     ]
    }
   ],
   "source": [
    "#indexing\n",
    "l = [10,20,30,40,50,60,70]\n",
    "key = 50\n",
    "for  index,value in enumerate(l):\n",
    "    if key == value:\n",
    "        print(\"the value is present at index\", index)\n",
    "        break\n",
    "else:\n",
    "    print(\"the number is not present\")\n",
    "\n",
    "   \n"
   ]
  },
  {
   "cell_type": "code",
   "execution_count": 101,
   "metadata": {},
   "outputs": [
    {
     "name": "stdout",
     "output_type": "stream",
     "text": [
      "the number is present\n"
     ]
    }
   ],
   "source": [
    "# approach 2 \n",
    "l = [10,20,30,40,50,60,70]\n",
    "key = 50\n",
    "if key in l:\n",
    "    print(\"the number is present\")\n",
    "else:\n",
    "    print(\"the number is not present\")\n",
    "    \n"
   ]
  },
  {
   "cell_type": "code",
   "execution_count": null,
   "metadata": {},
   "outputs": [],
   "source": [
    "\n",
    "range(10) 0 1 2 3 ..... 9\n",
    "range(10,50) 10 11 12 ..... 49\n",
    "range(10,50,5)  10 15 20 25 30 35 40 45"
   ]
  },
  {
   "cell_type": "code",
   "execution_count": 106,
   "metadata": {},
   "outputs": [
    {
     "name": "stdout",
     "output_type": "stream",
     "text": [
      "enter the string: E\n",
      "Consonent\n"
     ]
    }
   ],
   "source": [
    "char = input(\"enter the string: \")\n",
    "b = [\"a\",\"e\",\"i\",\"o\",\"u\"]\n",
    "if char in b:\n",
    "    print(\"Vowel\")\n",
    "else:\n",
    "    print(\"Consonent\")"
   ]
  },
  {
   "cell_type": "code",
   "execution_count": 112,
   "metadata": {},
   "outputs": [
    {
     "name": "stdout",
     "output_type": "stream",
     "text": [
      "100\n",
      "[2, 10, 14, 20, 45, 70, 100]\n",
      "70\n"
     ]
    }
   ],
   "source": [
    "l = [10,20,45,100,2,70,14]\n",
    "# max number from this list => 100\n",
    "print(max(l))\n",
    "print(sorted(l))\n",
    "print(l[-2])"
   ]
  },
  {
   "cell_type": "code",
   "execution_count": 124,
   "metadata": {},
   "outputs": [
    {
     "name": "stdout",
     "output_type": "stream",
     "text": [
      "1\t2\t3\t4\t\n",
      "\n",
      "2\t4\t6\t8\t\n",
      "\n",
      "3\t6\t9\t12\t\n",
      "\n",
      "4\t8\t12\t16\t\n",
      "\n",
      "5\t10\t15\t20\t\n",
      "\n",
      "6\t12\t18\t24\t\n",
      "\n",
      "7\t14\t21\t28\t\n",
      "\n",
      "8\t16\t24\t32\t\n",
      "\n",
      "9\t18\t27\t36\t\n",
      "\n",
      "10\t20\t30\t40\t\n",
      "\n"
     ]
    }
   ],
   "source": [
    "#tables\n",
    "\n",
    "for value1 in range(1,11):\n",
    "    for value2 in range(1,5):\n",
    "        print(value1 * value2,end = \"\\t\")\n",
    "    print(\"\\n\")"
   ]
  },
  {
   "cell_type": "code",
   "execution_count": 126,
   "metadata": {},
   "outputs": [
    {
     "name": "stdout",
     "output_type": "stream",
     "text": [
      "100\n",
      "101\n",
      "102\n",
      "200\n",
      "202\n",
      "204\n",
      "300\n",
      "303\n",
      "306\n",
      "400\n",
      "404\n",
      "408\n"
     ]
    }
   ],
   "source": [
    "\n",
    "for value1 in range(1,5):\n",
    "    for value2 in range(100,103):\n",
    "        print(value1*value2)"
   ]
  },
  {
   "cell_type": "code",
   "execution_count": 2,
   "metadata": {},
   "outputs": [
    {
     "name": "stdout",
     "output_type": "stream",
     "text": [
      "120\n"
     ]
    }
   ],
   "source": [
    "#factors of 5\n",
    "num =5\n",
    "fac = 1\n",
    "while num>0:\n",
    "    fac*= num # fac value will update for every iteration\n",
    "    num-=1\n",
    "print(fac)\n",
    "    "
   ]
  },
  {
   "cell_type": "code",
   "execution_count": null,
   "metadata": {},
   "outputs": [],
   "source": [
    "Session - 7 Strings\n"
   ]
  },
  {
   "cell_type": "code",
   "execution_count": null,
   "metadata": {},
   "outputs": [],
   "source": [
    "Strings :\n",
    "    - \"anjfdnndidfhi\",\"python\",\"java\"\n",
    "    -Immutable => no methods to add/update/del\n",
    "    - iterable => collecction of data\n",
    "    - Ordered => indexing and slicing"
   ]
  },
  {
   "cell_type": "code",
   "execution_count": 10,
   "metadata": {},
   "outputs": [
    {
     "name": "stdout",
     "output_type": "stream",
     "text": [
      "1048265584496\n",
      "1048264107760\n"
     ]
    }
   ],
   "source": [
    "s1 = \"java\"\n",
    "print(id(s1))\n",
    "s1 = \"p\"   # As str are immutable data type hence can 't update at same mem location\n",
    "print(id(s1))"
   ]
  },
  {
   "cell_type": "code",
   "execution_count": 11,
   "metadata": {},
   "outputs": [
    {
     "name": "stdout",
     "output_type": "stream",
     "text": [
      "0\n",
      "1\n",
      "2\n",
      "3\n",
      "4\n",
      "5\n",
      "6\n",
      "7\n",
      "8\n",
      "9\n",
      "10\n",
      "11\n",
      "12\n",
      "13\n",
      "14\n",
      "15\n",
      "16\n",
      "17\n",
      "18\n",
      "19\n",
      "20\n",
      "21\n",
      "22\n",
      "23\n",
      "24\n",
      "25\n",
      "26\n",
      "27\n"
     ]
    }
   ],
   "source": [
    "# indexing and slicing\n",
    "p = \"Python is very easy to learn\"\n",
    "for index, values in enumerate(p):\n",
    "    print(index)"
   ]
  },
  {
   "cell_type": "code",
   "execution_count": 15,
   "metadata": {},
   "outputs": [
    {
     "name": "stdout",
     "output_type": "stream",
     "text": [
      "y\n",
      "n\n",
      "ython is very easy to learn\n",
      "ytho\n",
      "yoivya  \n"
     ]
    }
   ],
   "source": [
    "# indexing and slicing\n",
    "p = \"Python is very easy to learn\"\n",
    "print(p[1]) # prints the value at index 1 in p\n",
    "print(p[-1])# prints the value of last index in p\n",
    "print(p[1:]) #prints the values in p from index 1\n",
    "print(p[1:5])# prints the values in p from index 1 to 4 and 5 is excluded\n",
    "\n",
    "print(p[1:23:3])# prints the values in p of every 3 char from index 1 to 23"
   ]
  },
  {
   "cell_type": "code",
   "execution_count": null,
   "metadata": {},
   "outputs": [],
   "source": [
    "Conditions for slicing \n",
    "if the slicing value is -1 then the indexing should be right to left or else it will return none value\n",
    "\n",
    "if the slicing value is 1 then the indexing should be from left to right or else it will return none value "
   ]
  },
  {
   "cell_type": "code",
   "execution_count": null,
   "metadata": {},
   "outputs": [],
   "source": [
    "stride:\n",
    "    Decides the direction os str traversal\n",
    "            +ve => Left to right => index should be left to right\n",
    "            -ve => Right to left => index should be right to left"
   ]
  },
  {
   "cell_type": "code",
   "execution_count": 21,
   "metadata": {},
   "outputs": [
    {
     "name": "stdout",
     "output_type": "stream",
     "text": [
      "c ,++c ,avaj ,nohtyp\n",
      "['c', 'c++,', 'java,', 'python,']\n"
     ]
    }
   ],
   "source": [
    "# reversing the order\n",
    "p = \"python, java, c++, c\"\n",
    "print(p[::-1])\n",
    "# expected o/p p = \"c\",\"c++\", \"java\",\"python\"\n",
    "l = p.split(\" \")\n",
    "print(l[::-1])"
   ]
  },
  {
   "cell_type": "code",
   "execution_count": null,
   "metadata": {},
   "outputs": [],
   "source": []
  },
  {
   "cell_type": "code",
   "execution_count": 24,
   "metadata": {},
   "outputs": [
    {
     "name": "stdout",
     "output_type": "stream",
     "text": [
      "the value of num is  100 the value of num1 is  200\n",
      "the valueof num is 100 and the value of num2 is 200\n"
     ]
    }
   ],
   "source": [
    "# format method:\n",
    "# isused to print the obtained values in a format \n",
    "# example\n",
    "num = 100\n",
    "num1 = 200\n",
    "print(\"the value of num is \", num, \"the value of num1 is \", num1) # commob way \n",
    "s = \"the valueof num is {} and the value of num2 is {}\".format(num,num1) # formating method always use this\n",
    "print(s)"
   ]
  },
  {
   "cell_type": "code",
   "execution_count": 26,
   "metadata": {},
   "outputs": [
    {
     "name": "stdout",
     "output_type": "stream",
     "text": [
      "you have received email from ir.pavan97@gmail.com and username is mepavan\n"
     ]
    }
   ],
   "source": [
    "subject = \"you have received email from {email} and username is {username}\"\n",
    "u = \"mepavan\"\n",
    "e = \"ir.pavan97@gmail.com\"\n",
    "print(subject.format(email = e, username = u))"
   ]
  },
  {
   "cell_type": "code",
   "execution_count": 37,
   "metadata": {},
   "outputs": [
    {
     "name": "stdout",
     "output_type": "stream",
     "text": [
      "['Python,Java,C,C++']\n",
      "P y t h o n , J a v a , C , C + +\n"
     ]
    }
   ],
   "source": [
    "# spliting and joining\n",
    "s = \"Python,Java,C,C++\"\n",
    "print(s.split(\" \"))\n",
    "print((\" \").join(s))\n",
    "\n"
   ]
  },
  {
   "cell_type": "code",
   "execution_count": null,
   "metadata": {},
   "outputs": [],
   "source": [
    "count \n",
    "find\n",
    "index\n",
    "replace\n"
   ]
  },
  {
   "cell_type": "code",
   "execution_count": 56,
   "metadata": {},
   "outputs": [
    {
     "name": "stdout",
     "output_type": "stream",
     "text": [
      " PYT HON\n"
     ]
    }
   ],
   "source": [
    "\n",
    "s = \" pyt hon\"\n",
    "\n",
    "print(s.swapcase())"
   ]
  },
  {
   "cell_type": "code",
   "execution_count": 58,
   "metadata": {},
   "outputs": [
    {
     "name": "stdout",
     "output_type": "stream",
     "text": [
      "this-is-a-string\n"
     ]
    }
   ],
   "source": [
    "line =\"this is a string\"\n",
    "line = line.split(\" \")\n",
    "line = \"-\".join(line)\n",
    "print(line)"
   ]
  },
  {
   "cell_type": "code",
   "execution_count": 1,
   "metadata": {},
   "outputs": [
    {
     "name": "stdout",
     "output_type": "stream",
     "text": [
      "True\n",
      "False\n",
      "False\n",
      "False\n",
      "False\n"
     ]
    }
   ],
   "source": [
    "s = \"qA2\"\n",
    "print(s.isalnum())\n",
    "print(s.isalpha())\n",
    "print(s.isdigit())\n",
    "print(s.islower())\n",
    "print(s.isupper())"
   ]
  },
  {
   "cell_type": "code",
   "execution_count": 64,
   "metadata": {},
   "outputs": [
    {
     "data": {
      "text/plain": [
       "<function print>"
      ]
     },
     "execution_count": 64,
     "metadata": {},
     "output_type": "execute_result"
    }
   ],
   "source": [
    "print"
   ]
  },
  {
   "cell_type": "code",
   "execution_count": 65,
   "metadata": {},
   "outputs": [
    {
     "name": "stdout",
     "output_type": "stream",
     "text": [
      "['__add__', '__class__', '__contains__', '__delattr__', '__dir__', '__doc__', '__eq__', '__format__', '__ge__', '__getattribute__', '__getitem__', '__getnewargs__', '__gt__', '__hash__', '__init__', '__init_subclass__', '__iter__', '__le__', '__len__', '__lt__', '__mod__', '__mul__', '__ne__', '__new__', '__reduce__', '__reduce_ex__', '__repr__', '__rmod__', '__rmul__', '__setattr__', '__sizeof__', '__str__', '__subclasshook__', 'capitalize', 'casefold', 'center', 'count', 'encode', 'endswith', 'expandtabs', 'find', 'format', 'format_map', 'index', 'isalnum', 'isalpha', 'isascii', 'isdecimal', 'isdigit', 'isidentifier', 'islower', 'isnumeric', 'isprintable', 'isspace', 'istitle', 'isupper', 'join', 'ljust', 'lower', 'lstrip', 'maketrans', 'partition', 'replace', 'rfind', 'rindex', 'rjust', 'rpartition', 'rsplit', 'rstrip', 'split', 'splitlines', 'startswith', 'strip', 'swapcase', 'title', 'translate', 'upper', 'zfill']\n"
     ]
    }
   ],
   "source": [
    "print(dir(str))\n"
   ]
  },
  {
   "cell_type": "code",
   "execution_count": 1,
   "metadata": {},
   "outputs": [],
   "source": [
    "# Regular expressions\n",
    "import re"
   ]
  },
  {
   "cell_type": "code",
   "execution_count": 9,
   "metadata": {},
   "outputs": [
    {
     "name": "stdout",
     "output_type": "stream",
     "text": [
      "['sdcbd33JNSD', 'snxsan8878JNNJ']\n"
     ]
    }
   ],
   "source": [
    "s = \"adcdsbc343sdcbd33JNSD33snxsan8878JNNJ\"\n",
    "f = re.compile(\"([a-z]+[0-9]+[A-Z]+)\")\n",
    "p = re.findall(f,s)\n",
    "print(p)"
   ]
  },
  {
   "cell_type": "code",
   "execution_count": 25,
   "metadata": {},
   "outputs": [
    {
     "name": "stdout",
     "output_type": "stream",
     "text": [
      "['adcdsbc3', 'sdcbd3']\n"
     ]
    }
   ],
   "source": [
    "s1 = \"adcdsbc343sdcbd33DD\"\n",
    "f1= re.compile(\"[a-z]+[0-9]\")\n",
    "p1 = re.findall(f1,s1)\n",
    "print(p1)"
   ]
  }
 ],
 "metadata": {
  "kernelspec": {
   "display_name": "Python 3",
   "language": "python",
   "name": "python3"
  },
  "language_info": {
   "codemirror_mode": {
    "name": "ipython",
    "version": 3
   },
   "file_extension": ".py",
   "mimetype": "text/x-python",
   "name": "python",
   "nbconvert_exporter": "python",
   "pygments_lexer": "ipython3",
   "version": "3.7.4"
  }
 },
 "nbformat": 4,
 "nbformat_minor": 2
}
