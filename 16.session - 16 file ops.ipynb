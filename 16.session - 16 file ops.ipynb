{
 "cells": [
  {
   "cell_type": "code",
   "execution_count": null,
   "metadata": {},
   "outputs": [],
   "source": [
    "import bs : we can't import individual fuctions"
   ]
  },
  {
   "cell_type": "code",
   "execution_count": null,
   "metadata": {},
   "outputs": [],
   "source": [
    "from bs import binary_search : we can import individual fuctions"
   ]
  },
  {
   "cell_type": "code",
   "execution_count": null,
   "metadata": {},
   "outputs": [],
   "source": [
    "r\n",
    "r+\n",
    "\n",
    "w \n",
    "w+\n",
    "\n",
    "a \n",
    "a+\n",
    "\n",
    "rb \n",
    "rb+\n",
    "\n",
    "wb\n",
    "wb+\n",
    "\n",
    "a\n",
    "ab+"
   ]
  },
  {
   "cell_type": "code",
   "execution_count": null,
   "metadata": {},
   "outputs": [],
   "source": [
    "open(file_name, mode)"
   ]
  },
  {
   "cell_type": "code",
   "execution_count": 29,
   "metadata": {},
   "outputs": [
    {
     "name": "stdout",
     "output_type": "stream",
     "text": [
      "2wdwedfcwceefcfefcervcrecvrevcervrfvrev\n",
      "--------------\n",
      "\n"
     ]
    }
   ],
   "source": [
    "# how to read the data from text files\n",
    "\n",
    "fp = open(\"python3.txt\",\"r\", encoding = \"utf-8\")\n",
    "content = fp.read()\n",
    "print(content)\n",
    "print(\"--------------\")\n",
    "content = fp.read()\n",
    "print(content)\n",
    "fp.close()"
   ]
  },
  {
   "cell_type": "code",
   "execution_count": 30,
   "metadata": {},
   "outputs": [
    {
     "name": "stdout",
     "output_type": "stream",
     "text": [
      "2wdwedfcwceefc\n",
      "--------------\n",
      "fefcervcrecvrevcervrfvrev\n"
     ]
    }
   ],
   "source": [
    "\n",
    "fp = open(\"python3.txt\",\"r\", encoding = \"utf-8\")\n",
    "content = fp.read(14)\n",
    "print(content)\n",
    "print(\"--------------\")\n",
    "content = fp.read()\n",
    "print(content)\n",
    "fp.close()"
   ]
  },
  {
   "cell_type": "code",
   "execution_count": 37,
   "metadata": {},
   "outputs": [
    {
     "name": "stdout",
     "output_type": "stream",
     "text": [
      "2wdwedf\n",
      "cwceefcfefcervcrecvrevcervrfvrev\n",
      "\n",
      "fen\n",
      "\n"
     ]
    }
   ],
   "source": [
    "# dealing with  large content\n",
    "\n",
    "fp = open(\"python3.txt\",\"r\", encoding = \"utf-8\")\n",
    "content = fp.readline(7)\n",
    "print(content)\n",
    "content = fp.readline()\n",
    "print(content)\n",
    "content = fp.readline()\n",
    "print(content)\n"
   ]
  },
  {
   "cell_type": "code",
   "execution_count": 38,
   "metadata": {},
   "outputs": [
    {
     "name": "stdout",
     "output_type": "stream",
     "text": [
      "['2wdwedfcwceefcfefcervcrecvrevcervrfvrev\\n', 'fen\\n', 'fkwnenv\\n', 'fevchebc\\n', 'cedbci\\n', 'dvvcbjfk dd v\\n']\n",
      "[]\n",
      "[]\n"
     ]
    }
   ],
   "source": [
    "\n",
    "fp = open(\"python3.txt\",\"r\", encoding = \"utf-8\")\n",
    "content = fp.readlines()\n",
    "print(content)\n",
    "content = fp.readlines()\n",
    "print(content)\n",
    "content = fp.readlines()\n",
    "print(content)"
   ]
  },
  {
   "cell_type": "code",
   "execution_count": 39,
   "metadata": {},
   "outputs": [
    {
     "name": "stdout",
     "output_type": "stream",
     "text": [
      "2wdwedfcwceefcfefcervcrecvrevcervrfvrev\n",
      "\n",
      "fen\n",
      "\n",
      "fkwnenv\n",
      "\n",
      "fevchebc\n",
      "\n",
      "cedbci\n",
      "\n",
      "dvvcbjfk dd v\n",
      "\n",
      "[]\n"
     ]
    }
   ],
   "source": [
    "# dealing with  large content\n",
    "\n",
    "fp = open(\"python3.txt\",\"r\", encoding = \"utf-8\")\n",
    "for x in fp:\n",
    "    print(x)\n",
    "print(content)"
   ]
  },
  {
   "cell_type": "code",
   "execution_count": 43,
   "metadata": {},
   "outputs": [],
   "source": [
    "fp = open(\"pyhton4.txt\",\"w\",encoding = \"utf-8\")\n",
    "fp.write(\"****************************\")\n",
    "\n",
    "fp.close()"
   ]
  },
  {
   "cell_type": "code",
   "execution_count": 1,
   "metadata": {},
   "outputs": [
    {
     "name": "stdout",
     "output_type": "stream",
     "text": [
      "32\n",
      "jj***************\n"
     ]
    }
   ],
   "source": [
    "# read and write the data\n",
    "fp = open(\"pyhton5.txt\",\"w+\",encoding = \"utf-8\")\n",
    "\n",
    "fp.write(\"*************uujj***************\")\n",
    "print(fp.tell())\n",
    "fp.seek(0,0)\n",
    "fp.seek(15,0)\n",
    "content = fp.read()\n",
    "print(content)\n",
    "fp.close()"
   ]
  },
  {
   "cell_type": "code",
   "execution_count": 66,
   "metadata": {},
   "outputs": [],
   "source": [
    "# read and write the data\n",
    "fp = open(\"pyhton5.txt\",\"r+\",encoding = \"utf-8\")\n",
    "\n",
    "fp.write(\"*************uujj***************\")\n",
    "\n",
    "fp.close()"
   ]
  },
  {
   "cell_type": "code",
   "execution_count": null,
   "metadata": {},
   "outputs": [],
   "source": []
  },
  {
   "cell_type": "code",
   "execution_count": 63,
   "metadata": {},
   "outputs": [
    {
     "ename": "IndentationError",
     "evalue": "unexpected indent (<ipython-input-63-55e2ed654bf7>, line 3)",
     "output_type": "error",
     "traceback": [
      "\u001b[1;36m  File \u001b[1;32m\"<ipython-input-63-55e2ed654bf7>\"\u001b[1;36m, line \u001b[1;32m3\u001b[0m\n\u001b[1;33m    -offset(how many char)\u001b[0m\n\u001b[1;37m    ^\u001b[0m\n\u001b[1;31mIndentationError\u001b[0m\u001b[1;31m:\u001b[0m unexpected indent\n"
     ]
    }
   ],
   "source": [
    "tell() # current pointer position\n",
    "seek (offset,position) #  to change the file pointer position\n",
    "    -offset(how many char)\n",
    "    - position : position of char"
   ]
  },
  {
   "cell_type": "code",
   "execution_count": 68,
   "metadata": {},
   "outputs": [
    {
     "name": "stdout",
     "output_type": "stream",
     "text": [
      "40\n"
     ]
    }
   ],
   "source": [
    "    # read and write the data\n",
    "    fp = open(\"pyhton5.txt\",\"a\",encoding = \"utf-8\")\n",
    "    fp.write(\"dcfakhck\")\n",
    "\n",
    "    print(fp.tell())\n",
    "    fp.close()"
   ]
  },
  {
   "cell_type": "code",
   "execution_count": 70,
   "metadata": {},
   "outputs": [
    {
     "name": "stdout",
     "output_type": "stream",
     "text": [
      "*************uujj***************dcfakhckdcfakhckdcfakhck\n",
      "56\n"
     ]
    }
   ],
   "source": [
    "# read and write the data\n",
    "fp = open(\"pyhton5.txt\",\"a+\",encoding = \"utf-8\")\n",
    "fp.write(\"dcfakhck\")\n",
    "fp.seek(0,0)\n",
    "print(fp.read())\n",
    "\n",
    "\n",
    "print(fp.tell())\n",
    "fp.close()"
   ]
  },
  {
   "cell_type": "code",
   "execution_count": null,
   "metadata": {},
   "outputs": [],
   "source": [
    "r fp => start, file not exist => error, read\n",
    "r+ fp => start, file not exist => error, read and write\n",
    "w fp => start, file not exist => creates new file, write\n",
    "w+fp => start, file not exist => creates new file, write and read\n",
    "a => end, file not exist => create new , write at the end\n",
    "a+ => end, file not exist => create new, write and read\n",
    "\n",
    "tell ()\n",
    "seek(offset, position)\n",
    "\n",
    " 3 positions of seek\n",
    " 0: start\n",
    "1: cureent position \n",
    "2: end the file"
   ]
  }
 ],
 "metadata": {
  "kernelspec": {
   "display_name": "Python 3",
   "language": "python",
   "name": "python3"
  },
  "language_info": {
   "codemirror_mode": {
    "name": "ipython",
    "version": 3
   },
   "file_extension": ".py",
   "mimetype": "text/x-python",
   "name": "python",
   "nbconvert_exporter": "python",
   "pygments_lexer": "ipython3",
   "version": "3.7.4"
  }
 },
 "nbformat": 4,
 "nbformat_minor": 2
}
