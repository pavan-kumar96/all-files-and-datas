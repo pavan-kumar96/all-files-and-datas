{
 "cells": [
  {
   "cell_type": "code",
   "execution_count": 13,
   "metadata": {},
   "outputs": [
    {
     "name": "stdout",
     "output_type": "stream",
     "text": [
      "nrael ot ysae yrev si nohty\n"
     ]
    }
   ],
   "source": [
    "s = \"python is very easy to learn\"\n",
    "print(s[:0:-1])"
   ]
  },
  {
   "cell_type": "markdown",
   "metadata": {},
   "source": [
    "indexing :\n",
    "slicing\n",
    "Stride: spacing of the letters\n",
    "    "
   ]
  },
  {
   "cell_type": "code",
   "execution_count": 21,
   "metadata": {},
   "outputs": [
    {
     "name": "stdout",
     "output_type": "stream",
     "text": [
      "p\n",
      "y\n",
      "t\n",
      "h\n",
      "o\n",
      "n\n"
     ]
    }
   ],
   "source": [
    "s= \"python\"\n",
    "for i in s[0:]:\n",
    "    print(i)"
   ]
  },
  {
   "cell_type": "code",
   "execution_count": 34,
   "metadata": {},
   "outputs": [
    {
     "name": "stdout",
     "output_type": "stream",
     "text": [
      "the value of number is 200 and the value of number is 300\n"
     ]
    }
   ],
   "source": [
    "num1= \"200\"\n",
    "num2 = \"300\"\n",
    "s = \"the value of number is {0} and the value of number is {1}\".format(num1,num2)\n",
    "print(s)"
   ]
  },
  {
   "cell_type": "code",
   "execution_count": 51,
   "metadata": {},
   "outputs": [
    {
     "name": "stdout",
     "output_type": "stream",
     "text": [
      "enter user email id abc@gmail.com and username pavan\n"
     ]
    }
   ],
   "source": [
    "subject = \"enter user email id {email} and username {user}\"\n",
    "u = \"pavan\"\n",
    "e = \"abc@gmail.com\"\n",
    "print(subject.format(email= e ,user = u))"
   ]
  },
  {
   "cell_type": "code",
   "execution_count": 77,
   "metadata": {},
   "outputs": [
    {
     "name": "stdout",
     "output_type": "stream",
     "text": [
      "['c++', 'c', 'python', 'java']\n"
     ]
    }
   ],
   "source": [
    "s = (\"java python c c++\")\n",
    "\n",
    "l= s.split(\" \")\n",
    "print(l[-1::-1])"
   ]
  },
  {
   "cell_type": "code",
   "execution_count": 86,
   "metadata": {},
   "outputs": [
    {
     "name": "stdout",
     "output_type": "stream",
     "text": [
      "java and python and c and c++\n"
     ]
    }
   ],
   "source": [
    "    s = (\"java python c c++\")\n",
    "\n",
    "    l= s.split(\" \")\n",
    "    ss = (\" and \").join(l)\n",
    "    print(ss)\n"
   ]
  },
  {
   "cell_type": "code",
   "execution_count": 92,
   "metadata": {},
   "outputs": [
    {
     "name": "stdout",
     "output_type": "stream",
     "text": [
      "['c++', 'c', 'python', 'java']\n",
      "c++ and c and python and java\n"
     ]
    }
   ],
   "source": [
    "s = (\"java python c c++\")\n",
    "\n",
    "l= s.split(\" \")\n",
    "print(l[::-1])\n",
    "ss = (\" and \").join(l[::-1])\n",
    "print(ss)\n"
   ]
  },
  {
   "cell_type": "markdown",
   "metadata": {},
   "source": [
    "1. index\n",
    "2. replace\n",
    "3. count\n",
    "4. find"
   ]
  },
  {
   "cell_type": "code",
   "execution_count": 97,
   "metadata": {},
   "outputs": [
    {
     "name": "stdout",
     "output_type": "stream",
     "text": [
      "4\n"
     ]
    }
   ],
   "source": [
    "s = \"pyhton is a very easy program to learn\"\n",
    "print(s.count(\"a\"))"
   ]
  },
  {
   "cell_type": "code",
   "execution_count": 105,
   "metadata": {},
   "outputs": [
    {
     "name": "stdout",
     "output_type": "stream",
     "text": [
      "-1\n"
     ]
    }
   ],
   "source": [
    "s = \"pyhton is a very easy program to learn\"\n",
    "print(s.find\n",
    "      (\"z\"))"
   ]
  },
  {
   "cell_type": "code",
   "execution_count": 107,
   "metadata": {},
   "outputs": [
    {
     "name": "stdout",
     "output_type": "stream",
     "text": [
      "pyhton is z very ezsy progrzm to lezrn\n"
     ]
    }
   ],
   "source": [
    "s = \"pyhton is a very easy program to learn\"\n",
    "print(s.replace(\"a\",\"z\"))"
   ]
  },
  {
   "cell_type": "code",
   "execution_count": 112,
   "metadata": {},
   "outputs": [
    {
     "name": "stdout",
     "output_type": "stream",
     "text": [
      "643133473960\n",
      "140736826727648\n",
      "None\n"
     ]
    }
   ],
   "source": [
    "p = {\"a\",\"b\",\"c\",\"f\"}\n",
    "print(id(p))\n",
    "p= p.add(\"t\")\n",
    "print(id(p))\n",
    "print(p)\n"
   ]
  },
  {
   "cell_type": "code",
   "execution_count": 117,
   "metadata": {},
   "outputs": [
    {
     "name": "stdout",
     "output_type": "stream",
     "text": [
      "Pyhton Is A Very Easy Program To Learn\n"
     ]
    }
   ],
   "source": [
    "        s = \"pyhton is a very easy program to learn\"\n",
    "        s1 = s.title()\n",
    "        print(s1)"
   ]
  },
  {
   "cell_type": "code",
   "execution_count": 125,
   "metadata": {},
   "outputs": [
    {
     "name": "stdout",
     "output_type": "stream",
     "text": [
      "Pyhton is a very easy program to learn\n"
     ]
    }
   ],
   "source": [
    "        s = \"pyhton is a very easy program to learn\"\n",
    "        s1 = s.capitalize()\n",
    "        print(s1)"
   ]
  },
  {
   "cell_type": "markdown",
   "metadata": {},
   "source": [
    "### case fucntions\n",
    "lower    - islower()\n",
    "upper  -  isupper()\n",
    "title    - istitle()\n",
    "capitalize\n"
   ]
  },
  {
   "cell_type": "code",
   "execution_count": 1,
   "metadata": {},
   "outputs": [
    {
     "name": "stdout",
     "output_type": "stream",
     "text": [
      "true\n"
     ]
    }
   ],
   "source": [
    "s = \"pyhton is a very easy program to learn\"\n",
    "s1 = s.capitalize()\n",
    "if s1[0].isupper():\n",
    "    print(\"true\")\n",
    "else:\n",
    "    print(\"false\")"
   ]
  },
  {
   "cell_type": "code",
   "execution_count": 139,
   "metadata": {},
   "outputs": [
    {
     "name": "stdout",
     "output_type": "stream",
     "text": [
      "pyhtOn Is A vEry EAsy prOgrAm tO lEArn\n"
     ]
    }
   ],
   "source": [
    "s = \"pyhton is a very easy program to learn\"\n",
    "s1 = \"\"\n",
    "for value in s:\n",
    "    if value in [\"a\",\"e\",\"i\",\"o\",\"u\"]:\n",
    "        s1 = s1+value.upper()\n",
    "    \n",
    "    else:\n",
    "        s1 =  s1+value\n",
    "print(s1)"
   ]
  }
 ],
 "metadata": {
  "kernelspec": {
   "display_name": "Python 3",
   "language": "python",
   "name": "python3"
  },
  "language_info": {
   "codemirror_mode": {
    "name": "ipython",
    "version": 3
   },
   "file_extension": ".py",
   "mimetype": "text/x-python",
   "name": "python",
   "nbconvert_exporter": "python",
   "pygments_lexer": "ipython3",
   "version": "3.7.4"
  }
 },
 "nbformat": 4,
 "nbformat_minor": 2
}
