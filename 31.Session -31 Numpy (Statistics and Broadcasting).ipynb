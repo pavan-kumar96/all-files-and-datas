{
 "cells": [
  {
   "cell_type": "markdown",
   "metadata": {},
   "source": [
    "###BROADCASTING"
   ]
  },
  {
   "cell_type": "code",
   "execution_count": null,
   "metadata": {},
   "outputs": [],
   "source": [
    "For doing any math operations in numpy for a given matrix , there are two conditions\n",
    "1. they are equal, or\n",
    "2. one of them is 1"
   ]
  },
  {
   "cell_type": "code",
   "execution_count": 3,
   "metadata": {},
   "outputs": [],
   "source": [
    "import numpy as np\n",
    "import random"
   ]
  },
  {
   "cell_type": "code",
   "execution_count": 10,
   "metadata": {},
   "outputs": [
    {
     "data": {
      "text/plain": [
       "array([[2., 2.],\n",
       "       [2., 2.],\n",
       "       [2., 2.]])"
      ]
     },
     "execution_count": 10,
     "metadata": {},
     "output_type": "execute_result"
    }
   ],
   "source": [
    "a= np.ones((3,2))\n",
    "b = np.ones((2,3)) # condition 1 Shape should be same\n",
    "a+b.reshape(3,2)"
   ]
  },
  {
   "cell_type": "code",
   "execution_count": 19,
   "metadata": {},
   "outputs": [
    {
     "data": {
      "text/plain": [
       "array([[2., 2.],\n",
       "       [2., 2.],\n",
       "       [2., 2.]])"
      ]
     },
     "execution_count": 19,
     "metadata": {},
     "output_type": "execute_result"
    }
   ],
   "source": [
    "a = a= np.ones((3,2))\n",
    "b = np.ones((3,1)) # No. of Rows should be same and  No. of columns should be one.\n",
    "a+b"
   ]
  },
  {
   "cell_type": "code",
   "execution_count": 17,
   "metadata": {},
   "outputs": [
    {
     "data": {
      "text/plain": [
       "array([[2., 2.],\n",
       "       [2., 2.],\n",
       "       [2., 2.]])"
      ]
     },
     "execution_count": 17,
     "metadata": {},
     "output_type": "execute_result"
    }
   ],
   "source": [
    "a = a= np.ones((3,2)) # No. of columns sholud be same and no. of rows should be one\n",
    "b = np.ones((1, 2))\n",
    "a+b"
   ]
  },
  {
   "cell_type": "code",
   "execution_count": 40,
   "metadata": {},
   "outputs": [
    {
     "data": {
      "text/plain": [
       "array([[[8, 8, 8],\n",
       "        [8, 8, 8],\n",
       "        [8, 8, 8],\n",
       "        [8, 8, 8]],\n",
       "\n",
       "       [[8, 8, 8],\n",
       "        [8, 8, 8],\n",
       "        [8, 8, 8],\n",
       "        [8, 8, 8]]])"
      ]
     },
     "execution_count": 40,
     "metadata": {},
     "output_type": "execute_result"
    }
   ],
   "source": [
    "a = np.full((3,4,2),4).reshape(2,4,3)\n",
    "b = np.full((2,4,1),4)\n",
    "a+b"
   ]
  },
  {
   "cell_type": "code",
   "execution_count": 69,
   "metadata": {},
   "outputs": [
    {
     "name": "stdout",
     "output_type": "stream",
     "text": [
      "[[[-2 -1  2]\n",
      "  [ 1  3  1]]\n",
      "\n",
      " [[-3 -2  1]\n",
      "  [ 1  3  1]]]\n"
     ]
    },
    {
     "data": {
      "text/plain": [
       "(2, 2)"
      ]
     },
     "execution_count": 69,
     "metadata": {},
     "output_type": "execute_result"
    }
   ],
   "source": [
    "a = np.array([[1,2],[5,2],[4,2]])\n",
    "\n",
    "b = np.array([[3,1],[4,1]])\n",
    "res = a.reshape(1,2,3) - b.reshape(2,2,1)\n",
    "print(res)\n",
    "# res.shape\n",
    "m = b.reshape(2,1,2)\n",
    "# print(m)\n",
    "\n",
    "# print(b)\n",
    "a.shape\n",
    "b.shape\n"
   ]
  },
  {
   "cell_type": "code",
   "execution_count": 81,
   "metadata": {},
   "outputs": [
    {
     "name": "stdout",
     "output_type": "stream",
     "text": [
      "[[[-2  1]\n",
      "  [ 2  1]\n",
      "  [ 1  1]\n",
      "  [ 1  5]]\n",
      "\n",
      " [[-3  1]\n",
      "  [ 1  1]\n",
      "  [ 0  1]\n",
      "  [ 0  5]]\n",
      "\n",
      " [[-2  0]\n",
      "  [ 2  0]\n",
      "  [ 1  0]\n",
      "  [ 1  4]]]\n"
     ]
    }
   ],
   "source": [
    "a = np.array([[1,2],[5,2],[4,2],[4,6]])\n",
    "\n",
    "b = np.array([[3,1],[4,1],[3,2]])\n",
    "m = a.reshape(4,2) - b.reshape(3,1,2)\n",
    "print(m)\n",
    "\n"
   ]
  },
  {
   "cell_type": "code",
   "execution_count": null,
   "metadata": {},
   "outputs": [],
   "source": [
    "Thumb rule : In order to arthematic operations of any matrix there should be:\n",
    "        1. value and position of one matix must be equal to another\n",
    "        2. there should be value 1 in both of the cases or sometimes in any one of the cases"
   ]
  },
  {
   "cell_type": "markdown",
   "metadata": {},
   "source": [
    "###Statistics Using Numpy"
   ]
  },
  {
   "cell_type": "code",
   "execution_count": 111,
   "metadata": {},
   "outputs": [
    {
     "name": "stdout",
     "output_type": "stream",
     "text": [
      "<built-in method sort of numpy.ndarray object at 0x000000EBF16DE8A0>\n"
     ]
    }
   ],
   "source": [
    "# sort and argsort\n",
    "a = np.array([8,4,3,56,2,54,2,1])\n",
    "\n",
    "np.sort(a) # return values in ascending order\n",
    "np.argsort(a) # Returns index of the value which are in ascending order\n"
   ]
  },
  {
   "cell_type": "code",
   "execution_count": 113,
   "metadata": {},
   "outputs": [
    {
     "data": {
      "text/plain": [
       "22.465250944514285"
      ]
     },
     "execution_count": 113,
     "metadata": {},
     "output_type": "execute_result"
    }
   ],
   "source": [
    "# Standard Deviation  std =  sqrt(sum(x-x.mean)**2//n)\n",
    "a = np.array([8,4,3,56,2,54,2,1])\n",
    "a.std()"
   ]
  },
  {
   "cell_type": "code",
   "execution_count": 114,
   "metadata": {},
   "outputs": [
    {
     "data": {
      "text/plain": [
       "504.6875"
      ]
     },
     "execution_count": 114,
     "metadata": {},
     "output_type": "execute_result"
    }
   ],
   "source": [
    "# Variance var = std**2\n",
    "a = np.array([8,4,3,56,2,54,2,1])\n",
    "a.var()"
   ]
  },
  {
   "cell_type": "code",
   "execution_count": 115,
   "metadata": {},
   "outputs": [
    {
     "data": {
      "text/plain": [
       "16.25"
      ]
     },
     "execution_count": 115,
     "metadata": {},
     "output_type": "execute_result"
    }
   ],
   "source": [
    "#mean sum(a)/n\n",
    "a = np.array([8,4,3,56,2,54,2,1])\n",
    "a.mean()"
   ]
  },
  {
   "cell_type": "code",
   "execution_count": 117,
   "metadata": {},
   "outputs": [
    {
     "data": {
      "text/plain": [
       "3.5"
      ]
     },
     "execution_count": 117,
     "metadata": {},
     "output_type": "execute_result"
    }
   ],
   "source": [
    "#median The median is the ((n + 1)/2)\n",
    "a = np.array([8,4,3,56,2,54,2,1])\n",
    "np.median(a)"
   ]
  },
  {
   "cell_type": "code",
   "execution_count": null,
   "metadata": {},
   "outputs": [],
   "source": []
  }
 ],
 "metadata": {
  "kernelspec": {
   "display_name": "Python 3",
   "language": "python",
   "name": "python3"
  },
  "language_info": {
   "codemirror_mode": {
    "name": "ipython",
    "version": 3
   },
   "file_extension": ".py",
   "mimetype": "text/x-python",
   "name": "python",
   "nbconvert_exporter": "python",
   "pygments_lexer": "ipython3",
   "version": "3.7.4"
  }
 },
 "nbformat": 4,
 "nbformat_minor": 2
}
