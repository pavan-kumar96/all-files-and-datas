{
 "cells": [
  {
   "cell_type": "code",
   "execution_count": null,
   "metadata": {},
   "outputs": [],
   "source": [
    "dic:\n",
    "    add:\n",
    "            setdefalut:\n",
    "        set(key) = value\n",
    "        \n",
    "    update: \n",
    "         set(key) = new_value\n",
    "    del:\n",
    "        pop : depends on key\n",
    "        popitem \n",
    "        clear\n",
    "        del\n",
    "    \n",
    "list:\n",
    "    append : single element\n",
    "    insert :\n",
    "    extend: multiple elements\n",
    "        \n",
    "    update:\n",
    "        l[index] = value\n",
    "\n",
    "        del:\n",
    "            pop\n",
    "            clear\n",
    "            remove\n",
    "            del\n",
    "            \n",
    "            \n",
    "        \n",
    "        \n",
    "    \n",
    "    "
   ]
  },
  {
   "cell_type": "code",
   "execution_count": 1,
   "metadata": {},
   "outputs": [
    {
     "name": "stdout",
     "output_type": "stream",
     "text": [
      "[10, 20, 30, 40, 50, 60, 70]\n"
     ]
    }
   ],
   "source": [
    "l = [ 10,20,30,40,50,60]\n",
    "l.append(70)\n",
    "print(l)"
   ]
  },
  {
   "cell_type": "code",
   "execution_count": null,
   "metadata": {},
   "outputs": [],
   "source": [
    "Reasons for functions\n",
    "Modularity \n",
    "Code reuse"
   ]
  },
  {
   "cell_type": "code",
   "execution_count": 2,
   "metadata": {},
   "outputs": [
    {
     "name": "stdout",
     "output_type": "stream",
     "text": [
      "50\n"
     ]
    }
   ],
   "source": [
    "# add two numbers\n",
    "num = 20\n",
    "num1 = 30\n",
    "num2 = num1 +num\n",
    "print(num2)"
   ]
  },
  {
   "cell_type": "code",
   "execution_count": null,
   "metadata": {},
   "outputs": [],
   "source": [
    "# function defination\n",
    "def[user_defined_function name](arg1,arg2):\n",
    "    statements\n",
    "    \n",
    "#call the function\n",
    "user_defined_function_name(19,29)"
   ]
  },
  {
   "cell_type": "code",
   "execution_count": 6,
   "metadata": {},
   "outputs": [
    {
     "name": "stdout",
     "output_type": "stream",
     "text": [
      "66\n",
      "66\n",
      "132\n"
     ]
    }
   ],
   "source": [
    "def add(num,num1):\n",
    "    num2 = num+num1\n",
    "    print(num2)\n",
    "\n",
    "add(int(input()),int(input()))"
   ]
  },
  {
   "cell_type": "code",
   "execution_count": null,
   "metadata": {},
   "outputs": [],
   "source": [
    "def add(num,num1):\n",
    "    num2 = num+num1\n",
    "    print(num2)\n",
    "l = add()"
   ]
  },
  {
   "cell_type": "code",
   "execution_count": 16,
   "metadata": {},
   "outputs": [
    {
     "name": "stdout",
     "output_type": "stream",
     "text": [
      "False\n"
     ]
    }
   ],
   "source": [
    "def iscapitalize(s):\n",
    "    if s == s.capitalize():\n",
    "        return True\n",
    "    else:\n",
    "        return False\n",
    "    \n",
    "s1 = \"fffdfdv aAfv\"\n",
    "result = iscapitalize(s1)\n",
    "print(result)\n"
   ]
  },
  {
   "cell_type": "code",
   "execution_count": 21,
   "metadata": {},
   "outputs": [
    {
     "name": "stdout",
     "output_type": "stream",
     "text": [
      "10\n"
     ]
    }
   ],
   "source": [
    "def get_max(l, index):\n",
    "    \n",
    "    s= set(l)\n",
    "    l1 = sorted(s)\n",
    "        \n",
    "    return  l[-index]\n",
    "\n",
    "l1= [1,2,4,6,7,8,3,6,7,8,10,100]\n",
    "result = get_max(l1,2)\n",
    "print(result)\n",
    "\n",
    "    "
   ]
  },
  {
   "cell_type": "code",
   "execution_count": 1,
   "metadata": {},
   "outputs": [
    {
     "ename": "SyntaxError",
     "evalue": "invalid syntax (<ipython-input-1-1efff951d53a>, line 1)",
     "output_type": "error",
     "traceback": [
      "\u001b[1;36m  File \u001b[1;32m\"<ipython-input-1-1efff951d53a>\"\u001b[1;36m, line \u001b[1;32m1\u001b[0m\n\u001b[1;33m    parameter passing techiques:\u001b[0m\n\u001b[1;37m                    ^\u001b[0m\n\u001b[1;31mSyntaxError\u001b[0m\u001b[1;31m:\u001b[0m invalid syntax\n"
     ]
    }
   ],
   "source": [
    "parameter passing techiques:\n",
    "    1. positional args => total no. of args in function def and  function call should be same.\n",
    "    2. Defalut args    => Set the default value in function def for specific value\n",
    "    3. Variable len positional arg => packing => infinite length of the argumnets\n",
    "    4. Keyword args=> keywords should be same as func def\n",
    "    4. Variable length keyword args =>"
   ]
  },
  {
   "cell_type": "code",
   "execution_count": 2,
   "metadata": {},
   "outputs": [
    {
     "name": "stdout",
     "output_type": "stream",
     "text": [
      "4 23 5 5 6 7 7 7 4\n"
     ]
    }
   ],
   "source": [
    "def printval(num, num1,num2 =0, *args):\n",
    "    \n",
    "    print(num1,num,num2,*args)\n",
    "printval(23,4,5,5,6,7,7,7,4)"
   ]
  },
  {
   "cell_type": "code",
   "execution_count": 12,
   "metadata": {},
   "outputs": [
    {
     "name": "stdout",
     "output_type": "stream",
     "text": [
      "{'username': 'abc', 'email': 'abc@gmail.com', 'contact': '84313432', 'dob': '1-2-2019'}\n"
     ]
    },
    {
     "ename": "AttributeError",
     "evalue": "'str' object has no attribute 'foramt'",
     "output_type": "error",
     "traceback": [
      "\u001b[1;31m---------------------------------------------------------------------------\u001b[0m",
      "\u001b[1;31mAttributeError\u001b[0m                            Traceback (most recent call last)",
      "\u001b[1;32m<ipython-input-12-294c3184eabe>\u001b[0m in \u001b[0;36m<module>\u001b[1;34m\u001b[0m\n\u001b[0;32m      4\u001b[0m     \u001b[0mprint\u001b[0m\u001b[1;33m(\u001b[0m\u001b[0msubject\u001b[0m\u001b[1;33m)\u001b[0m\u001b[1;33m\u001b[0m\u001b[1;33m\u001b[0m\u001b[0m\n\u001b[0;32m      5\u001b[0m \u001b[1;33m\u001b[0m\u001b[0m\n\u001b[1;32m----> 6\u001b[1;33m \u001b[0muser_info\u001b[0m\u001b[1;33m(\u001b[0m\u001b[0musername\u001b[0m\u001b[1;33m=\u001b[0m\u001b[1;34m\"abc\"\u001b[0m\u001b[1;33m,\u001b[0m\u001b[0memail\u001b[0m\u001b[1;33m=\u001b[0m\u001b[1;34m\"abc@gmail.com\"\u001b[0m\u001b[1;33m,\u001b[0m\u001b[0mcontact\u001b[0m\u001b[1;33m=\u001b[0m\u001b[1;34m\"84313432\"\u001b[0m\u001b[1;33m,\u001b[0m\u001b[0mdob\u001b[0m\u001b[1;33m=\u001b[0m\u001b[1;34m\"1-2-2019\"\u001b[0m\u001b[1;33m)\u001b[0m\u001b[1;33m\u001b[0m\u001b[1;33m\u001b[0m\u001b[0m\n\u001b[0m\u001b[0;32m      7\u001b[0m \u001b[1;31m#user_info(\"username\"=\"abc\",\"email\"=\"abc@gmail.com\",\"contact\"=\"84313432\")\u001b[0m\u001b[1;33m\u001b[0m\u001b[1;33m\u001b[0m\u001b[1;33m\u001b[0m\u001b[0m\n",
      "\u001b[1;32m<ipython-input-12-294c3184eabe>\u001b[0m in \u001b[0;36muser_info\u001b[1;34m(**args)\u001b[0m\n\u001b[0;32m      1\u001b[0m \u001b[1;32mdef\u001b[0m \u001b[0muser_info\u001b[0m\u001b[1;33m(\u001b[0m\u001b[1;33m**\u001b[0m\u001b[0margs\u001b[0m\u001b[1;33m)\u001b[0m\u001b[1;33m:\u001b[0m\u001b[1;33m\u001b[0m\u001b[1;33m\u001b[0m\u001b[0m\n\u001b[0;32m      2\u001b[0m     \u001b[0mprint\u001b[0m\u001b[1;33m(\u001b[0m\u001b[0margs\u001b[0m\u001b[1;33m)\u001b[0m\u001b[1;33m\u001b[0m\u001b[1;33m\u001b[0m\u001b[0m\n\u001b[1;32m----> 3\u001b[1;33m     \u001b[0msubject\u001b[0m \u001b[1;33m=\u001b[0m \u001b[1;34m\"username:{} email:{} contact:{} dob:{}\"\u001b[0m\u001b[1;33m.\u001b[0m\u001b[0mforamt\u001b[0m\u001b[1;33m(\u001b[0m\u001b[0margs\u001b[0m\u001b[1;33m.\u001b[0m\u001b[0mget\u001b[0m\u001b[1;33m(\u001b[0m\u001b[1;34m\"username\"\u001b[0m\u001b[1;33m)\u001b[0m\u001b[1;33m,\u001b[0m\u001b[0margs\u001b[0m\u001b[1;33m.\u001b[0m\u001b[0mget\u001b[0m\u001b[1;33m(\u001b[0m\u001b[1;34m\"email\"\u001b[0m\u001b[1;33m)\u001b[0m\u001b[1;33m,\u001b[0m\u001b[0margs\u001b[0m\u001b[1;33m.\u001b[0m\u001b[0mget\u001b[0m\u001b[1;33m(\u001b[0m\u001b[1;34m\"contact\"\u001b[0m\u001b[1;33m)\u001b[0m\u001b[1;33m,\u001b[0m\u001b[0margs\u001b[0m\u001b[1;33m.\u001b[0m\u001b[0mget\u001b[0m\u001b[1;33m(\u001b[0m\u001b[1;34m\"dob\"\u001b[0m\u001b[1;33m)\u001b[0m\u001b[1;33m)\u001b[0m\u001b[1;33m\u001b[0m\u001b[1;33m\u001b[0m\u001b[0m\n\u001b[0m\u001b[0;32m      4\u001b[0m     \u001b[0mprint\u001b[0m\u001b[1;33m(\u001b[0m\u001b[0msubject\u001b[0m\u001b[1;33m)\u001b[0m\u001b[1;33m\u001b[0m\u001b[1;33m\u001b[0m\u001b[0m\n\u001b[0;32m      5\u001b[0m \u001b[1;33m\u001b[0m\u001b[0m\n",
      "\u001b[1;31mAttributeError\u001b[0m: 'str' object has no attribute 'foramt'"
     ]
    }
   ],
   "source": [
    "def user_info(**args):\n",
    "    print(args)\n",
    "    subject = \"username:{} email:{} contact:{} dob:{}\".foramt(args.get(\"username\"),args.get(\"email\"),args.get(\"contact\"),args.get(\"dob\"))\n",
    "    print(subject)\n",
    "    \n",
    "user_info(username=\"abc\",email=\"abc@gmail.com\",contact=\"84313432\",dob=\"1-2-2019\")\n",
    "#user_info(\"username\"=\"abc\",\"email\"=\"abc@gmail.com\",\"contact\"=\"84313432\")"
   ]
  },
  {
   "cell_type": "code",
   "execution_count": 19,
   "metadata": {},
   "outputs": [
    {
     "name": "stdout",
     "output_type": "stream",
     "text": [
      "True\n"
     ]
    }
   ],
   "source": [
    "def binary_search(l,key):\n",
    "    if not l:\n",
    "        return false\n",
    "    else:\n",
    "        mid_index = len(l)//2\n",
    "        if key == l[mid_index]:\n",
    "            return  True\n",
    "        elif key< l[mid_index]:\n",
    "            return binary_search(l[:mid_index],key)\n",
    "        else: \n",
    "            return binary_search(l[mid_index:],key)\n",
    "        \n",
    "l = [10,20,30,40,50,60,70]\n",
    "key = 70\n",
    "print(binary_search(l,key))"
   ]
  },
  {
   "cell_type": "code",
   "execution_count": 14,
   "metadata": {},
   "outputs": [
    {
     "data": {
      "text/plain": [
       "()"
      ]
     },
     "execution_count": 14,
     "metadata": {},
     "output_type": "execute_result"
    }
   ],
   "source": [
    "()"
   ]
  },
  {
   "cell_type": "code",
   "execution_count": null,
   "metadata": {},
   "outputs": [],
   "source": [
    "def binary_search(l,key):\n",
    "    if not in"
   ]
  }
 ],
 "metadata": {
  "kernelspec": {
   "display_name": "Python 3",
   "language": "python",
   "name": "python3"
  },
  "language_info": {
   "codemirror_mode": {
    "name": "ipython",
    "version": 3
   },
   "file_extension": ".py",
   "mimetype": "text/x-python",
   "name": "python",
   "nbconvert_exporter": "python",
   "pygments_lexer": "ipython3",
   "version": "3.7.4"
  }
 },
 "nbformat": 4,
 "nbformat_minor": 2
}
