{
 "cells": [
  {
   "cell_type": "markdown",
   "metadata": {},
   "source": [
    "1  Money ChangeProblem \n",
    "\n",
    "IntroductionIn this problem, you will design and implement an elementary greedy algorithmused by cashiers all over the world millions of times per day.\n",
    "\n",
    "Problem DescriptionTask.\n",
    "\n",
    "The goal in this problem is to find the minimum number of coins needed to change the input value(an integer) into coins with denominations 1, 5, and 10.Input Format.The input consists of a single integer푚.\n",
    "\n",
    "Constraints.1≤푚≤103.\n",
    "Output Format.\n",
    "Output the minimum number of coins with denominations1,5,10that changes푚.\n",
    "Sample 1.Input:2\n",
    "Output:22 = 1 + 1.Sample \n",
    "2.Input:28\n",
    "Output:628 = 10 + 10 + 5 + 1 + 1 + 1.\n",
    "Need Help?Ask a question or see the questions asked by other learners at this forum thread."
   ]
  },
  {
   "cell_type": "code",
   "execution_count": 2,
   "metadata": {},
   "outputs": [],
   "source": [
    "def number(x):\n",
    "    count = 0\n",
    "    coins = [10,5,1]\n",
    "    res = []\n",
    "    while (x!= 0):\n",
    "        if(x>10):\n",
    "            res.append(10)\n",
    "            x = x- 10\n",
    "        elif (x>5):\n",
    "            res.append(5)\n",
    "            x = x- 5\n",
    "        elif (x>1):\n",
    "            res.append(1)\n",
    "            x= x-1\n",
    "    print(len(res))\n",
    "            \n",
    "        "
   ]
  },
  {
   "cell_type": "code",
   "execution_count": null,
   "metadata": {},
   "outputs": [],
   "source": [
    "number(2)"
   ]
  },
  {
   "cell_type": "code",
   "execution_count": 4,
   "metadata": {},
   "outputs": [
    {
     "ename": "KeyboardInterrupt",
     "evalue": "",
     "output_type": "error",
     "traceback": [
      "\u001b[1;31m---------------------------------------------------------------------------\u001b[0m",
      "\u001b[1;31mKeyboardInterrupt\u001b[0m                         Traceback (most recent call last)",
      "\u001b[1;32m<ipython-input-4-ac9689514533>\u001b[0m in \u001b[0;36m<module>\u001b[1;34m\u001b[0m\n\u001b[0;32m      4\u001b[0m \u001b[0mres\u001b[0m \u001b[1;33m=\u001b[0m \u001b[1;33m[\u001b[0m\u001b[1;33m]\u001b[0m\u001b[1;33m\u001b[0m\u001b[1;33m\u001b[0m\u001b[0m\n\u001b[0;32m      5\u001b[0m \u001b[1;32mwhile\u001b[0m \u001b[1;33m(\u001b[0m\u001b[0mx\u001b[0m\u001b[1;33m!=\u001b[0m \u001b[1;36m0\u001b[0m\u001b[1;33m)\u001b[0m\u001b[1;33m:\u001b[0m\u001b[1;33m\u001b[0m\u001b[1;33m\u001b[0m\u001b[0m\n\u001b[1;32m----> 6\u001b[1;33m     \u001b[1;32mif\u001b[0m\u001b[1;33m(\u001b[0m\u001b[0mx\u001b[0m\u001b[1;33m>\u001b[0m\u001b[1;36m10\u001b[0m\u001b[1;33m)\u001b[0m\u001b[1;33m:\u001b[0m\u001b[1;33m\u001b[0m\u001b[1;33m\u001b[0m\u001b[0m\n\u001b[0m\u001b[0;32m      7\u001b[0m         \u001b[0mres\u001b[0m\u001b[1;33m.\u001b[0m\u001b[0mappend\u001b[0m\u001b[1;33m(\u001b[0m\u001b[1;36m10\u001b[0m\u001b[1;33m)\u001b[0m\u001b[1;33m\u001b[0m\u001b[1;33m\u001b[0m\u001b[0m\n\u001b[0;32m      8\u001b[0m         \u001b[0mx\u001b[0m \u001b[1;33m=\u001b[0m \u001b[0mx\u001b[0m\u001b[1;33m-\u001b[0m \u001b[1;36m10\u001b[0m\u001b[1;33m\u001b[0m\u001b[1;33m\u001b[0m\u001b[0m\n",
      "\u001b[1;31mKeyboardInterrupt\u001b[0m: "
     ]
    }
   ],
   "source": [
    "x = 5\n",
    "count = 0\n",
    "coins = [10,5,1]\n",
    "res = []\n",
    "while (x!= 0):\n",
    "    if(x>10):\n",
    "        res.append(10)\n",
    "        x = x- 10\n",
    "    elif (x>5):\n",
    "        res.append(5)\n",
    "        x = x- 5\n",
    "    elif (x>1):\n",
    "        res.append(1)\n",
    "        x= x-1\n",
    "print(len(res))"
   ]
  },
  {
   "cell_type": "code",
   "execution_count": 7,
   "metadata": {},
   "outputs": [
    {
     "name": "stdout",
     "output_type": "stream",
     "text": [
      "2\n",
      "6\n",
      "22\n",
      "20\n",
      "17\n",
      "11\n",
      "11\n",
      "12\n",
      "16\n",
      "15\n",
      "14\n",
      "14\n"
     ]
    }
   ],
   "source": [
    "coins = [10,5,1]\n",
    "count = 0\n",
    "num = 28\n",
    "while (num!=0):\n",
    "    for i in range(len(coins)):\n",
    "        number= num//coins[i]\n",
    "        count+= number\n",
    "        num = num- (2*number)\n",
    "    print(count)"
   ]
  },
  {
   "cell_type": "code",
   "execution_count": null,
   "metadata": {},
   "outputs": [],
   "source": []
  }
 ],
 "metadata": {
  "kernelspec": {
   "display_name": "Python 3",
   "language": "python",
   "name": "python3"
  },
  "language_info": {
   "codemirror_mode": {
    "name": "ipython",
    "version": 3
   },
   "file_extension": ".py",
   "mimetype": "text/x-python",
   "name": "python",
   "nbconvert_exporter": "python",
   "pygments_lexer": "ipython3",
   "version": "3.7.4"
  }
 },
 "nbformat": 4,
 "nbformat_minor": 2
}
