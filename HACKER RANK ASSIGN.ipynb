{
 "cells": [
  {
   "cell_type": "markdown",
   "metadata": {},
   "source": [
    "num = input()\n",
    "s1 = num.split(\" \")\n",
    "N = int(s1[0])\n",
    "M = int(s1[1])\n",
    "count =0\n",
    "s =0\n",
    "while M> count:\n",
    "    count+=1\n",
    "    X = int(input())\n",
    "    s +=X\n",
    "print(s)\n"
   ]
  },
  {
   "cell_type": "code",
   "execution_count": null,
   "metadata": {},
   "outputs": [],
   "source": []
  },
  {
   "cell_type": "code",
   "execution_count": null,
   "metadata": {},
   "outputs": [],
   "source": []
  },
  {
   "cell_type": "code",
   "execution_count": 2,
   "metadata": {},
   "outputs": [
    {
     "name": "stdout",
     "output_type": "stream",
     "text": [
      "100 5\n",
      "-105\n",
      "500\n",
      "300\n",
      "-100\n",
      "200\n",
      "1000\n"
     ]
    }
   ],
   "source": [
    "#Explanation\n",
    "\n",
    "#We start with  points.\n",
    "#\n",
    "#We can apply the-100  penalty, then we now have  points.\n",
    "\n",
    "#We can then apply the  penalty, then we have  points. Of course, we can't have less than  points, so now we have  points again.\n",
    "\n",
    "#Then, we can apply  points, for a current total of  points.#\n",
    "\n",
    "#Then , we can apply the  points, for a current total of  points.\n",
    "\n",
    "#Then, we apply the  points, for a total of  points. This is optimal.\n",
    "\n",
    "num = input()\n",
    "s1 = num.split(\" \")\n",
    "N = int(s1[0])\n",
    "M = int(s1[1])\n",
    "count =0\n",
    "s =N\n",
    "l = []\n",
    "while M> count:\n",
    "    count+=1\n",
    "    X = int(input())\n",
    "    l.append(X)\n",
    "l.sort()\n",
    "\n",
    "for value in l:\n",
    "    s = s + value\n",
    "    if value < 0:\n",
    "        s = 0\n",
    "print(s)\n"
   ]
  },
  {
   "cell_type": "code",
   "execution_count": null,
   "metadata": {},
   "outputs": [],
   "source": [
    "d ={}\n",
    "l = [15,21,25,36,11,1,2,3]\n",
    "for value in range(1,92,10)\n",
    "print(value)\n"
   ]
  },
  {
   "cell_type": "code",
   "execution_count": 4,
   "metadata": {},
   "outputs": [
    {
     "name": "stdout",
     "output_type": "stream",
     "text": [
      "weird\n"
     ]
    }
   ],
   "source": [
    "\n",
    "import math\n",
    "import os\n",
    "import random\n",
    "import re\n",
    "import sys\n",
    "def evenodd(n):\n",
    "    f = \"weird\"\n",
    "    s = \"Not Weird\"\n",
    "    if not n%2 == 0:\n",
    "        return print(f)\n",
    "    else:\n",
    "        if n <5:\n",
    "            return  print(s)\n",
    "        elif n< 20:\n",
    "            return  print(f)\n",
    "        else: \n",
    "\n",
    "            \n",
    "            return  print(s)\n",
    "    \n",
    "evenodd(16)"
   ]
  },
  {
   "cell_type": "code",
   "execution_count": null,
   "metadata": {},
   "outputs": [],
   "source": [
    "def runnerup(names):\n",
    "    names= []\n",
    "    scores =  []\n",
    "    for index in range (len(scores)):\n",
    "        if scores[index]  == min(scores):\n",
    "            return names[index]\n",
    "    \n",
    "    "
   ]
  },
  {
   "cell_type": "code",
   "execution_count": 7,
   "metadata": {},
   "outputs": [
    {
     "name": "stdout",
     "output_type": "stream",
     "text": [
      "5\n",
      "frfd\n",
      "33\n",
      "ffewc\n",
      "33\n",
      "derf\n",
      "33\n",
      "ewce\n",
      "56\n",
      "ferg\n",
      "57\n"
     ]
    },
    {
     "data": {
      "text/plain": [
       "'frfd'"
      ]
     },
     "execution_count": 7,
     "metadata": {},
     "output_type": "execute_result"
    }
   ],
   "source": [
    "def runnerup(names,scores):\n",
    "    for index in range (len(scores)):\n",
    "        if scores[index]  == min(scores):\n",
    "            return names[index]\n",
    "names = []\n",
    "scores = []\n",
    "if __name__ == '__main__':\n",
    "    for _ in range(int(input())):\n",
    "        name = input()\n",
    "        score = float(input())\n",
    "        names.append(name)\n",
    "        scores.append(score)\n",
    "scores.remove(min(scores))\n",
    "\n",
    "runnerup(names,scores)\n",
    "\n",
    "        \n",
    " \n"
   ]
  },
  {
   "cell_type": "markdown",
   "metadata": {},
   "source": [
    "def main():\n",
    "    scores= []\n",
    "    n = int(input())\n",
    "    for i in range(n):\n",
    "        name = input()\n",
    "        m1 = int(input())\n",
    "        m2 = int(input())\n",
    "        m3 = int(input())\n",
    "        scores.append([name,m1,m2,m3])\n",
    "    print(scores)\n",
    "    \n",
    "main()\n",
    "        "
   ]
  },
  {
   "cell_type": "code",
   "execution_count": 23,
   "metadata": {},
   "outputs": [
    {
     "name": "stdout",
     "output_type": "stream",
     "text": [
      "2\n",
      "dd\n",
      "33\n",
      "33\n",
      "33\n",
      "dd\n",
      "33\n",
      "22\n",
      "33\n",
      "dd\n",
      "29.333333333333332\n"
     ]
    }
   ],
   "source": [
    "def main():\n",
    "    scores= []\n",
    "    n = int(input())\n",
    "    for i in range(n):\n",
    "        name = input()\n",
    "        m1 = int(input())\n",
    "        m2 = int(input())\n",
    "        m3 = int(input())\n",
    "        scores.append([name,m1,m2,m3])\n",
    "    refer = input()\n",
    "    p = []\n",
    "    for index in range(len(scores)):\n",
    "        if scores[index][0] == refer:\n",
    "            p= (sum(scores[index][1:]))/3\n",
    "        \n",
    "        \n",
    "    print(p)\n",
    "    \n",
    "main()\n",
    "        "
   ]
  },
  {
   "cell_type": "code",
   "execution_count": 29,
   "metadata": {},
   "outputs": [
    {
     "name": "stdout",
     "output_type": "stream",
     "text": [
      "2\n",
      "dd 33 2 2\n",
      "ff 33 22 44\n",
      "ff\n"
     ]
    },
    {
     "ename": "TypeError",
     "evalue": "int() argument must be a string, a bytes-like object or a number, not 'list'",
     "output_type": "error",
     "traceback": [
      "\u001b[1;31m---------------------------------------------------------------------------\u001b[0m",
      "\u001b[1;31mTypeError\u001b[0m                                 Traceback (most recent call last)",
      "\u001b[1;32m<ipython-input-29-6f529970ffb1>\u001b[0m in \u001b[0;36m<module>\u001b[1;34m\u001b[0m\n\u001b[0;32m     10\u001b[0m             \u001b[0maverage\u001b[0m \u001b[1;33m=\u001b[0m \u001b[1;33m(\u001b[0m\u001b[0msum\u001b[0m\u001b[1;33m(\u001b[0m\u001b[0mint\u001b[0m\u001b[1;33m(\u001b[0m\u001b[0mp\u001b[0m\u001b[1;33m[\u001b[0m\u001b[0mindex\u001b[0m\u001b[1;33m]\u001b[0m\u001b[1;33m[\u001b[0m\u001b[1;36m1\u001b[0m\u001b[1;33m:\u001b[0m\u001b[1;33m]\u001b[0m\u001b[1;33m)\u001b[0m\u001b[1;33m)\u001b[0m\u001b[1;33m)\u001b[0m\u001b[1;33m/\u001b[0m\u001b[1;36m3\u001b[0m\u001b[1;33m\u001b[0m\u001b[1;33m\u001b[0m\u001b[0m\n\u001b[0;32m     11\u001b[0m             \u001b[0mprint\u001b[0m\u001b[1;33m(\u001b[0m\u001b[0maverage\u001b[0m\u001b[1;33m)\u001b[0m\u001b[1;33m\u001b[0m\u001b[1;33m\u001b[0m\u001b[0m\n\u001b[1;32m---> 12\u001b[1;33m \u001b[0mmain\u001b[0m\u001b[1;33m(\u001b[0m\u001b[1;33m)\u001b[0m\u001b[1;33m\u001b[0m\u001b[1;33m\u001b[0m\u001b[0m\n\u001b[0m",
      "\u001b[1;32m<ipython-input-29-6f529970ffb1>\u001b[0m in \u001b[0;36mmain\u001b[1;34m()\u001b[0m\n\u001b[0;32m      8\u001b[0m     \u001b[1;32mfor\u001b[0m \u001b[0mindex\u001b[0m \u001b[1;32min\u001b[0m \u001b[0mrange\u001b[0m\u001b[1;33m(\u001b[0m\u001b[0mn\u001b[0m\u001b[1;33m)\u001b[0m\u001b[1;33m:\u001b[0m\u001b[1;33m\u001b[0m\u001b[1;33m\u001b[0m\u001b[0m\n\u001b[0;32m      9\u001b[0m         \u001b[1;32mif\u001b[0m \u001b[0mp\u001b[0m\u001b[1;33m[\u001b[0m\u001b[0mindex\u001b[0m\u001b[1;33m]\u001b[0m\u001b[1;33m[\u001b[0m\u001b[1;36m0\u001b[0m\u001b[1;33m]\u001b[0m \u001b[1;33m==\u001b[0m \u001b[0mrefer\u001b[0m\u001b[1;33m:\u001b[0m\u001b[1;33m\u001b[0m\u001b[1;33m\u001b[0m\u001b[0m\n\u001b[1;32m---> 10\u001b[1;33m             \u001b[0maverage\u001b[0m \u001b[1;33m=\u001b[0m \u001b[1;33m(\u001b[0m\u001b[0msum\u001b[0m\u001b[1;33m(\u001b[0m\u001b[0mint\u001b[0m\u001b[1;33m(\u001b[0m\u001b[0mp\u001b[0m\u001b[1;33m[\u001b[0m\u001b[0mindex\u001b[0m\u001b[1;33m]\u001b[0m\u001b[1;33m[\u001b[0m\u001b[1;36m1\u001b[0m\u001b[1;33m:\u001b[0m\u001b[1;33m]\u001b[0m\u001b[1;33m)\u001b[0m\u001b[1;33m)\u001b[0m\u001b[1;33m)\u001b[0m\u001b[1;33m/\u001b[0m\u001b[1;36m3\u001b[0m\u001b[1;33m\u001b[0m\u001b[1;33m\u001b[0m\u001b[0m\n\u001b[0m\u001b[0;32m     11\u001b[0m             \u001b[0mprint\u001b[0m\u001b[1;33m(\u001b[0m\u001b[0maverage\u001b[0m\u001b[1;33m)\u001b[0m\u001b[1;33m\u001b[0m\u001b[1;33m\u001b[0m\u001b[0m\n\u001b[0;32m     12\u001b[0m \u001b[0mmain\u001b[0m\u001b[1;33m(\u001b[0m\u001b[1;33m)\u001b[0m\u001b[1;33m\u001b[0m\u001b[1;33m\u001b[0m\u001b[0m\n",
      "\u001b[1;31mTypeError\u001b[0m: int() argument must be a string, a bytes-like object or a number, not 'list'"
     ]
    }
   ],
   "source": [
    "def main():\n",
    "    p = []\n",
    "    n = int(input())\n",
    "    for i in range(n):\n",
    "        name = input()\n",
    "        p.append(name.split(\" \"))\n",
    "    refer = input()\n",
    "    for index in range(n):\n",
    "        if p[index][0] == refer:\n",
    "            average = (sum(int(p[index][1:])))/3\n",
    "            print(average)\n",
    "main()"
   ]
  },
  {
   "cell_type": "code",
   "execution_count": null,
   "metadata": {},
   "outputs": [],
   "source": [
    "def main():\n",
    "\n",
    "\n",
    "    \n",
    "    N = int(input()) # input() gets the whole line, int() converts from string to int\n",
    "    dictionaryb = {} # dictionaries appear to work the same as objects in javascript\n",
    "    for i in range(0, N): # don't forget the ':', necessary for all forloops in python!\n",
    "        inputArray = input().split()\n",
    "        marks = list(map(float, inputArray[1:])) # okay this line is cool, converts indices 1->end of inputArray to floats, puts them in a list\n",
    "        dictionary[inputArray[0]] = sum(marks)/float(len(marks)) # sum(marks) adds up everything in marks.. woaaah\n",
    "    print(\"%.2f\"  % dictionary[input()]) \n",
    "main()ff"
   ]
  },
  {
   "cell_type": "code",
   "execution_count": 4,
   "metadata": {},
   "outputs": [
    {
     "name": "stdout",
     "output_type": "stream",
     "text": [
      "['print(2+3)']\n"
     ]
    }
   ],
   "source": [
    "input = \"print(2+3)\"\n",
    "p = input.split(\"()\")\n",
    "print(p)"
   ]
  },
  {
   "cell_type": "code",
   "execution_count": 4,
   "metadata": {},
   "outputs": [
    {
     "name": "stdout",
     "output_type": "stream",
     "text": [
      "55\n",
      "33\n",
      "22\n",
      "33\n",
      "23\n",
      "44\n",
      "75\n",
      "77\n"
     ]
    }
   ],
   "source": [
    "\n",
    "\n",
    "def gradingStudents(grades):\n",
    "    m = []\n",
    "    for value in grades:\n",
    "        if value < 38:\n",
    "            m.append(value)\n",
    "        elif (value+2)%5 == 0:\n",
    "            l = value+2\n",
    "            m.append(l)\n",
    "        else:\n",
    "            m.append(value)\n",
    "    for i in m:\n",
    "        print(i)\n",
    "\n",
    "gradingStudents([55,33,22,33,23,44,73])            "
   ]
  },
  {
   "cell_type": "code",
   "execution_count": 5,
   "metadata": {},
   "outputs": [
    {
     "ename": "SyntaxError",
     "evalue": "invalid syntax (<ipython-input-5-6dee67c60b21>, line 22)",
     "output_type": "error",
     "traceback": [
      "\u001b[1;36m  File \u001b[1;32m\"<ipython-input-5-6dee67c60b21>\"\u001b[1;36m, line \u001b[1;32m22\u001b[0m\n\u001b[1;33m    return (grades)\u001b[0m\n\u001b[1;37m         ^\u001b[0m\n\u001b[1;31mSyntaxError\u001b[0m\u001b[1;31m:\u001b[0m invalid syntax\n"
     ]
    }
   ],
   "source": [
    "#!/bin/python3\n",
    "\n",
    "import math\n",
    "import os\n",
    "import random\n",
    "import re\n",
    "import sys\n",
    "\n",
    "#\n",
    "# Complete the 'gradingStudents' function below.\n",
    "#\n",
    "# The function is expected to return an INTEGER_ARRAY.\n",
    "# The function accepts INTEGER_ARRAY grades as parameter.\n",
    "#\n",
    "\n",
    "def gradingStudents(grades):\n",
    "    for i in range(len(grades)):\n",
    "        if grades[i]> 37:\n",
    "            if grades[i]%5 != 0:\n",
    "                if (5- (grades[i]%5)<3):\n",
    "                    grades[i]+= (5- (grades[i]%5)\n",
    "    return (grades)\n",
    "    # Write your code here\n",
    "\n",
    "if __name__ == '__main__':\n",
    "    fptr = open(os.environ['OUTPUT_PATH'], 'w')\n",
    "\n",
    "    grades_count = int(input().strip())\n",
    "\n",
    "    grades = []\n",
    "\n",
    "    for _ in range(grades_count):\n",
    "        grades_item = int(input().strip())\n",
    "        grades.append(grades_item)\n",
    "\n",
    "    result = gradingStudents(grades)\n",
    "\n",
    "    fptr.write('\\n'.join(map(str, result)))\n",
    "    fptr.write('\\n')\n",
    "\n",
    "    fptr.close()\n"
   ]
  },
  {
   "cell_type": "code",
   "execution_count": 8,
   "metadata": {},
   "outputs": [
    {
     "ename": "NameError",
     "evalue": "name 'x1' is not defined",
     "output_type": "error",
     "traceback": [
      "\u001b[1;31m---------------------------------------------------------------------------\u001b[0m",
      "\u001b[1;31mNameError\u001b[0m                                 Traceback (most recent call last)",
      "\u001b[1;32m<ipython-input-8-d3e6ded8abf6>\u001b[0m in \u001b[0;36m<module>\u001b[1;34m\u001b[0m\n\u001b[1;32m----> 1\u001b[1;33m \u001b[1;32mfor\u001b[0m \u001b[0mi\u001b[0m \u001b[1;32min\u001b[0m \u001b[0mrange\u001b[0m\u001b[1;33m(\u001b[0m\u001b[0mx1\u001b[0m\u001b[1;33m,\u001b[0m\u001b[1;36m10000\u001b[0m\u001b[1;33m,\u001b[0m\u001b[0mv1\u001b[0m\u001b[1;33m)\u001b[0m\u001b[1;33m:\u001b[0m\u001b[1;33m\u001b[0m\u001b[1;33m\u001b[0m\u001b[0m\n\u001b[0m\u001b[0;32m      2\u001b[0m \u001b[1;33m\u001b[0m\u001b[0m\n\u001b[0;32m      3\u001b[0m     \u001b[1;32mfor\u001b[0m \u001b[0mj\u001b[0m \u001b[1;32min\u001b[0m \u001b[0mrange\u001b[0m\u001b[1;33m(\u001b[0m\u001b[0mx2\u001b[0m\u001b[1;33m,\u001b[0m\u001b[1;36m10000\u001b[0m\u001b[1;33m,\u001b[0m\u001b[0mv2\u001b[0m\u001b[1;33m)\u001b[0m\u001b[1;33m:\u001b[0m\u001b[1;33m\u001b[0m\u001b[1;33m\u001b[0m\u001b[0m\n\u001b[0;32m      4\u001b[0m         \u001b[1;32mif\u001b[0m \u001b[0mi\u001b[0m \u001b[1;33m==\u001b[0m \u001b[0mj\u001b[0m\u001b[1;33m:\u001b[0m\u001b[1;33m\u001b[0m\u001b[1;33m\u001b[0m\u001b[0m\n\u001b[0;32m      5\u001b[0m             \u001b[1;32mbreak\u001b[0m\u001b[1;33m\u001b[0m\u001b[1;33m\u001b[0m\u001b[0m\n",
      "\u001b[1;31mNameError\u001b[0m: name 'x1' is not defined"
     ]
    }
   ],
   "source": [
    "for i in range(x1,10000,v1):\n",
    "   \n",
    "    for j in range(x2,10000,v2):\n",
    "        if i == j:\n",
    "            break\n",
    "return \"YES\"\n",
    "    \n"
   ]
  },
  {
   "cell_type": "code",
   "execution_count": 15,
   "metadata": {},
   "outputs": [
    {
     "data": {
      "text/plain": [
       "'dbdjdiodbfffjdb'"
      ]
     },
     "execution_count": 15,
     "metadata": {},
     "output_type": "execute_result"
    }
   ],
   "source": [
    "def alternate(s):\n",
    "    test = list(map(str, s))\n",
    "    set1 = set(test)\n",
    "    set1 = list(set1)\n",
    "    max_count = 0\n",
    "    \n",
    "    for j in range(len(set1)):\n",
    "        for i in s:\n",
    "            if i == set1[j]:\n",
    "                test.remove(i)\n",
    "    #         if len(test) > max_count:\n",
    "    #             max_count = len(test)\n",
    "    #             index+=1\n",
    "    #     return max_count\n",
    "    #     return test\n",
    "        return s\n",
    "alternate(\"dbdjdiodbfffjdb\")"
   ]
  },
  {
   "cell_type": "code",
   "execution_count": 29,
   "metadata": {},
   "outputs": [
    {
     "name": "stdout",
     "output_type": "stream",
     "text": [
      "['d', 'F', 's', 'd', 'f', 'a', 'd', 's', 'f', 'c', 'a', 'd']\n"
     ]
    },
    {
     "ename": "IndexError",
     "evalue": "list index out of range",
     "output_type": "error",
     "traceback": [
      "\u001b[1;31m---------------------------------------------------------------------------\u001b[0m",
      "\u001b[1;31mIndexError\u001b[0m                                Traceback (most recent call last)",
      "\u001b[1;32m<ipython-input-29-fc06405db028>\u001b[0m in \u001b[0;36m<module>\u001b[1;34m\u001b[0m\n\u001b[0;32m      6\u001b[0m \u001b[1;33m\u001b[0m\u001b[0m\n\u001b[0;32m      7\u001b[0m \u001b[1;32mfor\u001b[0m \u001b[0mi\u001b[0m \u001b[1;32min\u001b[0m \u001b[0mrange\u001b[0m \u001b[1;33m(\u001b[0m\u001b[0mlen\u001b[0m\u001b[1;33m(\u001b[0m\u001b[0mk\u001b[0m\u001b[1;33m)\u001b[0m\u001b[1;33m-\u001b[0m\u001b[1;36m1\u001b[0m\u001b[1;33m)\u001b[0m\u001b[1;33m:\u001b[0m\u001b[1;33m\u001b[0m\u001b[1;33m\u001b[0m\u001b[0m\n\u001b[1;32m----> 8\u001b[1;33m     \u001b[1;32mif\u001b[0m \u001b[0mk\u001b[0m\u001b[1;33m[\u001b[0m\u001b[0mi\u001b[0m\u001b[1;33m]\u001b[0m \u001b[1;33m==\u001b[0m \u001b[1;34m\"a\"\u001b[0m\u001b[1;33m:\u001b[0m\u001b[1;33m\u001b[0m\u001b[1;33m\u001b[0m\u001b[0m\n\u001b[0m\u001b[0;32m      9\u001b[0m         \u001b[0mk\u001b[0m\u001b[1;33m.\u001b[0m\u001b[0mremove\u001b[0m\u001b[1;33m(\u001b[0m\u001b[0mk\u001b[0m\u001b[1;33m[\u001b[0m\u001b[0mi\u001b[0m\u001b[1;33m]\u001b[0m\u001b[1;33m)\u001b[0m\u001b[1;33m\u001b[0m\u001b[1;33m\u001b[0m\u001b[0m\n\u001b[0;32m     10\u001b[0m \u001b[1;33m\u001b[0m\u001b[0m\n",
      "\u001b[1;31mIndexError\u001b[0m: list index out of range"
     ]
    }
   ],
   "source": [
    "l = \"dFsdfadsfcad\"\n",
    "k= []\n",
    "for i in l:\n",
    "    k.append(i)\n",
    "print(k)\n",
    "    \n",
    "for i in range (len(k)-1):\n",
    "    if k[i] == \"a\":\n",
    "        k.remove(k[i])\n",
    "        \n",
    "print(k)"
   ]
  },
  {
   "cell_type": "code",
   "execution_count": 35,
   "metadata": {},
   "outputs": [
    {
     "data": {
      "text/plain": [
       "'´´´.\\x9e\\x9f\\xa0.µ¶'"
      ]
     },
     "execution_count": 35,
     "metadata": {},
     "output_type": "execute_result"
    }
   ],
   "source": [
    "# Lipps_Asvph!\n",
    "#!/bin/python3\n",
    "\n",
    "import math\n",
    "import os\n",
    "import random\n",
    "import re\n",
    "import sys\n",
    "\n",
    "# Complete the caesarCipher function below.\n",
    "def caesarCipher(s, k):\n",
    "    m = []\n",
    "    for i in s:\n",
    "        if i.islower():\n",
    "            if ord(i)+k >= 123:\n",
    "                m.append((chr((ord(i))+k-26)))\n",
    "            else:\n",
    "                m.append((chr((ord(i))+k)))\n",
    "        elif i.isupper():\n",
    "            if ord(i)+k >=91:\n",
    "                m.append((chr((ord(i))+k-26)))\n",
    "            else:\n",
    "                m.append((chr((ord(i))+k)))\n",
    "        else:\n",
    "            m.append(i)\n",
    "    return \"\".join(m)\n",
    "\n",
    "\n",
    "\n",
    "caesarCipher(\"www.abc.xy\",87)\n",
    "# Lipps_Asvph!\n",
    "# fff.jkl.gh"
   ]
  },
  {
   "cell_type": "code",
   "execution_count": 66,
   "metadata": {},
   "outputs": [
    {
     "data": {
      "text/plain": [
       "0"
      ]
     },
     "execution_count": 66,
     "metadata": {},
     "output_type": "execute_result"
    }
   ],
   "source": [
    "def marsExploration(s):\n",
    "    \n",
    "  \n",
    "    p =  len(s) - (s.count(\"S\") + s.count(\"O\"))\n",
    "    return p          \n",
    "  \n",
    "    \n",
    "marsExploration(\"SOSOOSS\")"
   ]
  },
  {
   "cell_type": "code",
   "execution_count": 14,
   "metadata": {},
   "outputs": [
    {
     "name": "stdout",
     "output_type": "stream",
     "text": [
      "1\n",
      "2\n",
      "3\n",
      "4\n",
      "4\n",
      "21\n",
      "62\n"
     ]
    }
   ],
   "source": [
    "def pavan(unsorted):\n",
    "\n",
    "\n",
    "    a = sorted(unsorted)\n",
    "    print(*a,sep = \"\\n\")\n",
    "#     for value in a:\n",
    "#         return(value)\n",
    "pavan([4,62,21,1,2,3,4])"
   ]
  },
  {
   "cell_type": "code",
   "execution_count": 12,
   "metadata": {},
   "outputs": [
    {
     "data": {
      "text/plain": [
       "2"
      ]
     },
     "execution_count": 12,
     "metadata": {},
     "output_type": "execute_result"
    }
   ],
   "source": [
    "# Complete the migratoryBirds function below.\n",
    "def migratoryBirds(arr):\n",
    "    a = set(arr)\n",
    "    max_count = 0\n",
    "    for i  in a:\n",
    "        count = arr.count(i)\n",
    "        if count > max_count:\n",
    "            max_count = count\n",
    "            a = i\n",
    "    return \n",
    "migratoryBirds([1,2,2,2,3,4,5])"
   ]
  },
  {
   "cell_type": "code",
   "execution_count": 34,
   "metadata": {},
   "outputs": [
    {
     "ename": "TypeError",
     "evalue": "unsupported operand type(s) for +: 'int' and 'str'",
     "output_type": "error",
     "traceback": [
      "\u001b[1;31m---------------------------------------------------------------------------\u001b[0m",
      "\u001b[1;31mTypeError\u001b[0m                                 Traceback (most recent call last)",
      "\u001b[1;32m<ipython-input-34-1e6002cae9a7>\u001b[0m in \u001b[0;36m<module>\u001b[1;34m\u001b[0m\n\u001b[0;32m      7\u001b[0m         \u001b[0ma\u001b[0m \u001b[1;33m=\u001b[0m \u001b[1;33m(\u001b[0m\u001b[1;33m(\u001b[0m\u001b[1;33m(\u001b[0m\u001b[1;36m256\u001b[0m\u001b[1;33m-\u001b[0m\u001b[1;36m243\u001b[0m\u001b[1;33m)\u001b[0m\u001b[1;33m)\u001b[0m \u001b[1;33m+\u001b[0m \u001b[1;34m\":\"\u001b[0m \u001b[1;33m+\u001b[0m\u001b[0mint\u001b[0m\u001b[1;33m(\u001b[0m\u001b[1;34m\"09\"\u001b[0m\u001b[1;33m)\u001b[0m \u001b[1;33m+\u001b[0m \u001b[1;34m\":\"\u001b[0m \u001b[1;33m+\u001b[0m  \u001b[0myear\u001b[0m\u001b[1;33m)\u001b[0m\u001b[1;33m\u001b[0m\u001b[1;33m\u001b[0m\u001b[0m\n\u001b[0;32m      8\u001b[0m         \u001b[1;32mreturn\u001b[0m \u001b[0ma\u001b[0m\u001b[1;33m\u001b[0m\u001b[1;33m\u001b[0m\u001b[0m\n\u001b[1;32m----> 9\u001b[1;33m \u001b[0mdayOfProgrammer\u001b[0m\u001b[1;33m(\u001b[0m\u001b[1;36m1801\u001b[0m\u001b[1;33m)\u001b[0m\u001b[1;33m\u001b[0m\u001b[1;33m\u001b[0m\u001b[0m\n\u001b[0m\u001b[0;32m     10\u001b[0m \u001b[1;33m\u001b[0m\u001b[0m\n\u001b[0;32m     11\u001b[0m \u001b[1;33m\u001b[0m\u001b[0m\n",
      "\u001b[1;32m<ipython-input-34-1e6002cae9a7>\u001b[0m in \u001b[0;36mdayOfProgrammer\u001b[1;34m(year)\u001b[0m\n\u001b[0;32m      5\u001b[0m         \u001b[1;32mreturn\u001b[0m \u001b[0mprint\u001b[0m\u001b[1;33m\u001b[0m\u001b[1;33m\u001b[0m\u001b[0m\n\u001b[0;32m      6\u001b[0m     \u001b[1;32melse\u001b[0m\u001b[1;33m:\u001b[0m\u001b[1;33m\u001b[0m\u001b[1;33m\u001b[0m\u001b[0m\n\u001b[1;32m----> 7\u001b[1;33m         \u001b[0ma\u001b[0m \u001b[1;33m=\u001b[0m \u001b[1;33m(\u001b[0m\u001b[1;33m(\u001b[0m\u001b[1;33m(\u001b[0m\u001b[1;36m256\u001b[0m\u001b[1;33m-\u001b[0m\u001b[1;36m243\u001b[0m\u001b[1;33m)\u001b[0m\u001b[1;33m)\u001b[0m \u001b[1;33m+\u001b[0m \u001b[1;34m\":\"\u001b[0m \u001b[1;33m+\u001b[0m\u001b[0mint\u001b[0m\u001b[1;33m(\u001b[0m\u001b[1;34m\"09\"\u001b[0m\u001b[1;33m)\u001b[0m \u001b[1;33m+\u001b[0m \u001b[1;34m\":\"\u001b[0m \u001b[1;33m+\u001b[0m  \u001b[0myear\u001b[0m\u001b[1;33m)\u001b[0m\u001b[1;33m\u001b[0m\u001b[1;33m\u001b[0m\u001b[0m\n\u001b[0m\u001b[0;32m      8\u001b[0m         \u001b[1;32mreturn\u001b[0m \u001b[0ma\u001b[0m\u001b[1;33m\u001b[0m\u001b[1;33m\u001b[0m\u001b[0m\n\u001b[0;32m      9\u001b[0m \u001b[0mdayOfProgrammer\u001b[0m\u001b[1;33m(\u001b[0m\u001b[1;36m1801\u001b[0m\u001b[1;33m)\u001b[0m\u001b[1;33m\u001b[0m\u001b[1;33m\u001b[0m\u001b[0m\n",
      "\u001b[1;31mTypeError\u001b[0m: unsupported operand type(s) for +: 'int' and 'str'"
     ]
    }
   ],
   "source": [
    "# Print the full date of Day of the Programmer during year  in the format dd.mm.yyyy, where dd is the two-digit day, mm is the two-digit month, and yyyy is .\n",
    "def dayOfProgrammer(year):\n",
    "    if int(year)% 4 == 0:\n",
    "        \n",
    "        \n",
    "    else:\n",
    "        a = (((256-243)) + \":\" +int(\"09\") + \":\" +  year)\n",
    "        return a\n",
    "dayOfProgrammer(1801)\n",
    "        \n",
    "    "
   ]
  },
  {
   "cell_type": "code",
   "execution_count": 41,
   "metadata": {},
   "outputs": [
    {
     "ename": "SyntaxError",
     "evalue": "invalid syntax (<ipython-input-41-be83a273bf44>, line 3)",
     "output_type": "error",
     "traceback": [
      "\u001b[1;36m  File \u001b[1;32m\"<ipython-input-41-be83a273bf44>\"\u001b[1;36m, line \u001b[1;32m3\u001b[0m\n\u001b[1;33m    print(a[0]:a[1]:a[2])\u001b[0m\n\u001b[1;37m              ^\u001b[0m\n\u001b[1;31mSyntaxError\u001b[0m\u001b[1;31m:\u001b[0m invalid syntax\n"
     ]
    }
   ],
   "source": [
    "a = \"12:09:2019\"\n",
    "a.split(\":\")\n",
    "print(a[0]+\":\"+a[1]:a[2])\n"
   ]
  },
  {
   "cell_type": "code",
   "execution_count": 48,
   "metadata": {},
   "outputs": [
    {
     "name": "stdout",
     "output_type": "stream",
     "text": [
      "[2, 3, 4, 5]\n",
      "7\n"
     ]
    }
   ],
   "source": [
    "a = [1,2,3,4,5]\n",
    "k = 1\n",
    "m = a.remove(k)\n",
    "print(a)\n",
    "print(sum(a)//2)"
   ]
  },
  {
   "cell_type": "code",
   "execution_count": 45,
   "metadata": {},
   "outputs": [
    {
     "name": "stdout",
     "output_type": "stream",
     "text": [
      "4 1\n",
      "1 10 2 3 5\n",
      "12\n"
     ]
    }
   ],
   "source": [
    "#!/bin/python3\n",
    "\n",
    "import math\n",
    "import os\n",
    "import random\n",
    "import re\n",
    "import sys\n",
    "\n",
    "# Complete the bonAppetit function below.\n",
    "def bonAppetit(bill, k, b):\n",
    "    a = bill.pop(k)\n",
    "    if (sum(bill)//2) == b:\n",
    "        print \"Bon Appetit\" \n",
    "    else:\n",
    "        print (b - (sum(bill)//2) )\n",
    "\n",
    "\n",
    "if __name__ == '__main__':\n",
    "    nk = input().rstrip().split()\n",
    "\n",
    "    n = int(nk[0])\n",
    "\n",
    "    k = int(nk[1])\n",
    "\n",
    "    bill = list(map(int, input().rstrip().split()))\n",
    "\n",
    "    b = int(input().strip())\n",
    "\n",
    "    bonAppetit(bill, k, b)\n"
   ]
  },
  {
   "cell_type": "code",
   "execution_count": 57,
   "metadata": {},
   "outputs": [
    {
     "name": "stdout",
     "output_type": "stream",
     "text": [
      "3\n",
      "4\n",
      "6\n",
      "8\n",
      "6\n",
      "7\n",
      "9\n",
      "7\n",
      "8\n",
      "10\n",
      "8\n",
      "9\n",
      "[3, 4, 6, 8, 6, 7, 9, 11, 7, 8, 10, 12, 8, 9, 11, 13]\n"
     ]
    }
   ],
   "source": [
    "l = [1,4,5,6]\n",
    "p = [2,3,5,7]\n",
    "k = []\n",
    "for i  in range (len(l)):\n",
    "    for j in range(len(p)):\n",
    "        k.append(l[i]+p[j])\n",
    "for i in k:\n",
    "    \n",
    "    if i <= 10:\n",
    "        print(i)\n",
    "print(k)"
   ]
  },
  {
   "cell_type": "code",
   "execution_count": 63,
   "metadata": {},
   "outputs": [
    {
     "name": "stdout",
     "output_type": "stream",
     "text": [
      "ckrhaen\n"
     ]
    }
   ],
   "source": [
    "a = \"hackkeerraannk\"\n",
    "a = set(a)\n",
    "b = (\"\".join(a))\n",
    "print(b)\n",
    "if b == \"hackerank\":\n",
    "    print(yes)`b"
   ]
  },
  {
   "cell_type": "code",
   "execution_count": 67,
   "metadata": {},
   "outputs": [
    {
     "name": "stdout",
     "output_type": "stream",
     "text": [
      "2\n",
      "3\n",
      "4\n"
     ]
    }
   ],
   "source": [
    "for i in range(2,5):\n",
    "    print(i)"
   ]
  },
  {
   "cell_type": "code",
   "execution_count": 4,
   "metadata": {},
   "outputs": [
    {
     "name": "stdout",
     "output_type": "stream",
     "text": [
      "1.1 2.2 3.3 4.4 5.5 6.6 7.7 \n"
     ]
    },
    {
     "data": {
      "text/plain": [
       "array([1.1, 2.2, 3.3, 4.4, 5.5, 6.6, 7.7])"
      ]
     },
     "execution_count": 4,
     "metadata": {},
     "output_type": "execute_result"
    }
   ],
   "source": [
    "import numpy as np\n",
    "a = np.array(input().split(),float)\n",
    "a"
   ]
  },
  {
   "cell_type": "code",
   "execution_count": 5,
   "metadata": {},
   "outputs": [
    {
     "name": "stdout",
     "output_type": "stream",
     "text": [
      "11 22 33 44 55 33 22 11\n",
      "['11', '22', '33', '44', '55', '33', '22', '11']\n"
     ]
    }
   ],
   "source": [
    "a = input().split()\n",
    "print(a)"
   ]
  },
  {
   "cell_type": "code",
   "execution_count": 8,
   "metadata": {},
   "outputs": [
    {
     "name": "stdout",
     "output_type": "stream",
     "text": [
      "aaabbcddd\n",
      "acd\n"
     ]
    }
   ],
   "source": [
    "n = input()\n",
    "stack = []\n",
    "for i in range(len(n)):\n",
    "    if not stack or n[i]!= stack[-1]:\n",
    "        stack.append(n[i])\n",
    "\n",
    "    else:\n",
    "        stack.pop()\n",
    "\n",
    "if stack:\n",
    "    print(\"\".join(stack))\n",
    "else:\n",
    "    print(\"Empty String\")\n"
   ]
  },
  {
   "cell_type": "code",
   "execution_count": 9,
   "metadata": {},
   "outputs": [
    {
     "data": {
      "text/plain": [
       "[1, 2, 2, 3, 4, 5, 8]"
      ]
     },
     "execution_count": 9,
     "metadata": {},
     "output_type": "execute_result"
    }
   ],
   "source": [
    "l = [4,8,2,1,2,3,5]\n",
    "sorted(l)"
   ]
  }
 ],
 "metadata": {
  "kernelspec": {
   "display_name": "Python 3",
   "language": "python",
   "name": "python3"
  },
  "language_info": {
   "codemirror_mode": {
    "name": "ipython",
    "version": 3
   },
   "file_extension": ".py",
   "mimetype": "text/x-python",
   "name": "python",
   "nbconvert_exporter": "python",
   "pygments_lexer": "ipython3",
   "version": "3.7.4"
  }
 },
 "nbformat": 4,
 "nbformat_minor": 2
}
