{
 "cells": [
  {
   "cell_type": "markdown",
   "metadata": {},
   "source": [
    "### Linear models for Classification and Regression"
   ]
  },
  {
   "cell_type": "markdown",
   "metadata": {},
   "source": [
    "### Agenda"
   ]
  },
  {
   "cell_type": "code",
   "execution_count": null,
   "metadata": {},
   "outputs": [],
   "source": [
    "1. Simple linear regression with oridinal least Squares\n",
    "2. Gradient Descent  algorithm\n",
    "3. regularized regression methods- Ridge, Lasso, Elasticnet\n",
    "4. Logistic regression for classification\n",
    "5. Online Learning models- Stochastic Gradient Descent & Passive Aggrasive\n",
    "6. Robust Regression -  Dealing with outliers & Model errors\n",
    "7. Polymer regression\n",
    "8. Bias-varience Trade off\n",
    "9. Link https://www.slideshare.net/zekelabs/linear-regression-114293440"
   ]
  },
  {
   "cell_type": "code",
   "execution_count": 1,
   "metadata": {},
   "outputs": [],
   "source": [
    "import pandas as pd\n",
    "import numpy as np\n",
    "import matplotlib.pyplot as plt\n",
    "%matplotlib inline"
   ]
  },
  {
   "cell_type": "markdown",
   "metadata": {},
   "source": [
    "## 1. Simple Linear Regression Using Ordinary least squares method"
   ]
  },
  {
   "cell_type": "markdown",
   "metadata": {},
   "source": [
    "1. Feature consists of P independent varibles (p-dim)\n",
    "2. Target variable can be represented by y\n",
    "3. Relation betweenn the target data and feature data is represented by following equation\n",
    "4. W's Represent the co_efficients or slope or weights and w0 represents the intercept"
   ]
  },
  {
   "cell_type": "markdown",
   "metadata": {},
   "source": [
    "y(w,x)= w0+ w1x1+w2X2 ..... wpxp"
   ]
  },
  {
   "cell_type": "code",
   "execution_count": 2,
   "metadata": {},
   "outputs": [],
   "source": [
    "from sklearn.linear_model import LinearRegression"
   ]
  },
  {
   "cell_type": "code",
   "execution_count": null,
   "metadata": {},
   "outputs": [],
   "source": []
  }
 ],
 "metadata": {
  "kernelspec": {
   "display_name": "Python 3",
   "language": "python",
   "name": "python3"
  },
  "language_info": {
   "codemirror_mode": {
    "name": "ipython",
    "version": 3
   },
   "file_extension": ".py",
   "mimetype": "text/x-python",
   "name": "python",
   "nbconvert_exporter": "python",
   "pygments_lexer": "ipython3",
   "version": "3.7.4"
  }
 },
 "nbformat": 4,
 "nbformat_minor": 2
}
