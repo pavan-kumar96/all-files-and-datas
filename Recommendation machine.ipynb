{
 "cells": [
  {
   "cell_type": "markdown",
   "metadata": {},
   "source": [
    "### Objective\n",
    "1. Understanding what is Recommender system\n",
    "2. Types of recommender systems\n",
    "3. Using basic recommender systems from ml-extend for online retail data\n",
    "\n",
    "</hr>\n"
   ]
  },
  {
   "cell_type": "markdown",
   "metadata": {},
   "source": [
    "### 1. Recommender system\n",
    "1. This is system suggest user to buy, connect , sell, watch.\n",
    "2. Lot of distribution channel makes money using it.\n"
   ]
  },
  {
   "cell_type": "markdown",
   "metadata": {},
   "source": [
    "### 2.Types of Recommender systems\n",
    "1. Content based Filtering - Recommendations are based on metadata(information) collected from a user's history and interaction.Based on the previous watch movies system will recomd you the new movie.Udef earlier days.\n",
    "\n",
    "2. Collabarative filtering - Collecting the information from the interactions from many other users to derive suggestions for you.\n",
    "3. Hybrid Filtering - Combining the content and collabrative filtering"
   ]
  },
  {
   "cell_type": "code",
   "execution_count": null,
   "metadata": {},
   "outputs": [],
   "source": []
  }
 ],
 "metadata": {
  "kernelspec": {
   "display_name": "Python 3",
   "language": "python",
   "name": "python3"
  },
  "language_info": {
   "codemirror_mode": {
    "name": "ipython",
    "version": 3
   },
   "file_extension": ".py",
   "mimetype": "text/x-python",
   "name": "python",
   "nbconvert_exporter": "python",
   "pygments_lexer": "ipython3",
   "version": "3.7.4"
  }
 },
 "nbformat": 4,
 "nbformat_minor": 2
}
