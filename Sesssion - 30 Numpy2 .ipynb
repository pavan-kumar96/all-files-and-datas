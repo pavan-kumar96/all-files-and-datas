{
 "cells": [
  {
   "cell_type": "code",
   "execution_count": 2,
   "metadata": {},
   "outputs": [],
   "source": [
    "import numpy as np\n",
    "import random"
   ]
  },
  {
   "cell_type": "code",
   "execution_count": 3,
   "metadata": {},
   "outputs": [
    {
     "name": "stdout",
     "output_type": "stream",
     "text": [
      "[[17 32 97 90 91]\n",
      " [76 31 71 42 68]\n",
      " [90 54 31 93 37]\n",
      " [36 11 20  1 46]\n",
      " [28 27 81 11 77]]\n"
     ]
    }
   ],
   "source": [
    "data = np.random.randint(1,100,(5,5))\n",
    "print(data)\n",
    "# max(data)\n"
   ]
  },
  {
   "cell_type": "code",
   "execution_count": 4,
   "metadata": {},
   "outputs": [
    {
     "data": {
      "text/plain": [
       "True"
      ]
     },
     "execution_count": 4,
     "metadata": {},
     "output_type": "execute_result"
    }
   ],
   "source": [
    "data = np.array([1,1,1])\n",
    "data.any()\n"
   ]
  },
  {
   "cell_type": "code",
   "execution_count": 5,
   "metadata": {},
   "outputs": [
    {
     "data": {
      "text/plain": [
       "True"
      ]
     },
     "execution_count": 5,
     "metadata": {},
     "output_type": "execute_result"
    }
   ],
   "source": [
    "data.all()"
   ]
  },
  {
   "cell_type": "code",
   "execution_count": 6,
   "metadata": {},
   "outputs": [
    {
     "data": {
      "text/plain": [
       "array(['rat', 'bat', 'cat', 'rat'], dtype='<U4')"
      ]
     },
     "execution_count": 6,
     "metadata": {},
     "output_type": "execute_result"
    }
   ],
   "source": [
    "np.choose([1,2,0,1],choices = [\"cat\",\"rat\",\"bat\",\"chat\"]) #indexing "
   ]
  },
  {
   "cell_type": "code",
   "execution_count": 15,
   "metadata": {},
   "outputs": [
    {
     "data": {
      "text/plain": [
       "array([9, 7, 3, 5, 9, 5, 9, 7, 2, 8, 6])"
      ]
     },
     "execution_count": 15,
     "metadata": {},
     "output_type": "execute_result"
    }
   ],
   "source": [
    "d = np.random.randint(-10,10,20)\n",
    "d[(d>0)]"
   ]
  },
  {
   "cell_type": "code",
   "execution_count": 18,
   "metadata": {},
   "outputs": [
    {
     "data": {
      "text/plain": [
       "array([9, 7, 3, 5, 9, 5, 9, 7, 2, 8, 6])"
      ]
     },
     "execution_count": 18,
     "metadata": {},
     "output_type": "execute_result"
    }
   ],
   "source": [
    "d[np.where(d>0)] # finding the values which are non-negative"
   ]
  },
  {
   "cell_type": "code",
   "execution_count": 21,
   "metadata": {},
   "outputs": [
    {
     "name": "stdout",
     "output_type": "stream",
     "text": [
      "[[5 6 8 2]\n",
      " [2 1 6 6]\n",
      " [7 7 7 8]\n",
      " [4 4 5 6]]\n"
     ]
    }
   ],
   "source": [
    "d = np.random.randint(1,10,(4,4))\n",
    "print(d)"
   ]
  },
  {
   "cell_type": "code",
   "execution_count": 22,
   "metadata": {},
   "outputs": [
    {
     "data": {
      "text/plain": [
       "(array([0, 0, 1, 1, 2, 2, 2, 2, 3], dtype=int64),\n",
       " array([1, 2, 2, 3, 0, 1, 2, 3, 3], dtype=int64))"
      ]
     },
     "execution_count": 22,
     "metadata": {},
     "output_type": "execute_result"
    }
   ],
   "source": [
    "np.where(d>5)"
   ]
  },
  {
   "cell_type": "code",
   "execution_count": 24,
   "metadata": {},
   "outputs": [
    {
     "data": {
      "text/plain": [
       "array([857, 704, 982, 633, 620,  44, 778, 133, 146,   5, 225,  29, 196,\n",
       "       942, 754, 683, 714, 146, 951, 721, 429, 824, 489, 776, 698, 220,\n",
       "        44, 932, 873, 591,  81,  62, 688, 152, 426, 109, 203, 507,  29,\n",
       "       884, 995, 992, 993, 890, 407, 225, 559, 258, 650, 421, 788, 845,\n",
       "       960, 268, 765, 337, 484, 213, 541, 681, 224, 213, 749, 927, 494,\n",
       "       347, 180, 875, 763, 189, 216, 638, 916, 966, 848, 660, 601,  89,\n",
       "       228, 688, 245, 441, 306, 286, 353, 532, 533, 722, 345, 321, 772,\n",
       "       180, 571, 100, 765,  38, 274, 590, 184, 866])"
      ]
     },
     "execution_count": 24,
     "metadata": {},
     "output_type": "execute_result"
    }
   ],
   "source": [
    "d = np.random.randint(1,1000,100)\n",
    "d"
   ]
  },
  {
   "cell_type": "code",
   "execution_count": 26,
   "metadata": {},
   "outputs": [
    {
     "data": {
      "text/plain": [
       "array([857, 704, 982, 633, 620, 778, 133, 146, 225, 196, 942, 754, 683,\n",
       "       714, 146, 951, 721, 429, 824, 489, 776, 698, 220, 932, 873, 591,\n",
       "        81,  62, 688, 152, 426, 109, 203, 507, 884, 995, 992, 993, 890,\n",
       "       407, 225, 559, 258, 650, 421, 788, 845, 960, 268, 765, 337, 484,\n",
       "       213, 541, 681, 224, 213, 749, 927, 494, 347, 180, 875, 763, 189,\n",
       "       216, 638, 916, 966, 848, 660, 601,  89, 228, 688, 245, 441, 306,\n",
       "       286, 353, 532, 533, 722, 345, 321, 772, 180, 571, 100, 765, 274,\n",
       "       590, 184, 866])"
      ]
     },
     "execution_count": 26,
     "metadata": {},
     "output_type": "execute_result"
    }
   ],
   "source": [
    "d[np.where(d >(np.log2(d) * 10))] # to to find the log of value we do (np.log2(d))"
   ]
  },
  {
   "cell_type": "code",
   "execution_count": null,
   "metadata": {},
   "outputs": [],
   "source": []
  }
 ],
 "metadata": {
  "kernelspec": {
   "display_name": "Python 3",
   "language": "python",
   "name": "python3"
  },
  "language_info": {
   "codemirror_mode": {
    "name": "ipython",
    "version": 3
   },
   "file_extension": ".py",
   "mimetype": "text/x-python",
   "name": "python",
   "nbconvert_exporter": "python",
   "pygments_lexer": "ipython3",
   "version": "3.7.4"
  }
 },
 "nbformat": 4,
 "nbformat_minor": 2
}
