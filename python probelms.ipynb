{
 "cells": [
  {
   "cell_type": "code",
   "execution_count": 1,
   "metadata": {},
   "outputs": [],
   "source": [
    "import re"
   ]
  },
  {
   "cell_type": "code",
   "execution_count": 10,
   "metadata": {},
   "outputs": [
    {
     "data": {
      "text/plain": [
       "('weak', ['length of password is low'])"
      ]
     },
     "execution_count": 10,
     "metadata": {},
     "output_type": "execute_result"
    }
   ],
   "source": [
    "# entence must start with a Uppercase character (e.g. Noun/ I/ We/ He etc.)\n",
    "# There must be spaces between words.\n",
    "# Then the sentence must end with a full stop(.).\n",
    "# Two continuous spaces are not allowed.\n",
    "# Two continuous uppercase characters are not allowed.\n",
    "# However the sentence can end after an uppercase character.\n",
    "\n",
    "# Python program to check validation of password \n",
    "# Module of regular expression is used with search() \n",
    "\n",
    "\n",
    "\n",
    "def check_password_strength(password):\n",
    "    \n",
    "    while True:   \n",
    "        if (len(password)<8): \n",
    "            p= [\"length of password is low\"]\n",
    "            return (\"weak\",p)\n",
    "        \n",
    "            break\n",
    "        elif not re.search(\"[a-z]\", password): \n",
    "            p = [\"There is should alteast one lower character\"]\n",
    "            return (\"weak\",p)\n",
    "            break\n",
    "        elif not re.search(\"[A-Z]\", password): \n",
    "            p = [\"There should be one upper case character\"]\n",
    "            return \"weak\",p\n",
    "            break\n",
    "        elif not re.search(\"[0-9]\", password): \n",
    "            p = [\"There should atleast one number\"]\n",
    "            return \"weak\",p\n",
    "            break\n",
    "            \n",
    "        elif not re.search(\"[!,@,#,$,&]\", password): \n",
    "            p = [\"There should be atleast onee special character\"]\n",
    "            return \"weak\",p\n",
    "            break\n",
    "      \n",
    "        else: \n",
    "            return \"Valid Password\" \n",
    "            break\n",
    "\n",
    "check_password_strength(\"Rmu9e\") \n",
    "    "
   ]
  },
  {
   "cell_type": "code",
   "execution_count": 17,
   "metadata": {},
   "outputs": [
    {
     "name": "stdout",
     "output_type": "stream",
     "text": [
      "Enter file name: count.txt\n",
      "0\n"
     ]
    }
   ],
   "source": [
    "def count_code_lines(frame):\n",
    "   \n",
    "    num_lines = 0\n",
    "    with open(frame, 'r') as f:\n",
    "        for line in f:\n",
    "            num_lines += 1\n",
    "    print(num_lines)\n",
    "count_code_lines(input(\"Enter file name: \"))"
   ]
  },
  {
   "cell_type": "code",
   "execution_count": 26,
   "metadata": {},
   "outputs": [
    {
     "data": {
      "text/plain": [
       "0"
      ]
     },
     "execution_count": 26,
     "metadata": {},
     "output_type": "execute_result"
    }
   ],
   "source": [
    "def count_code_lines(frame):\n",
    "    count = 0\n",
    "    fp = open(\"count.text\",\"w+\",encoding = \"utf-8\")\n",
    "    for i in fp:\n",
    "        count+= 1\n",
    "    return count\n",
    "count_code_lines(open(\"count.txt\",\"a+\",encoding = \"utf-8\"))\n"
   ]
  },
  {
   "cell_type": "code",
   "execution_count": 29,
   "metadata": {},
   "outputs": [
    {
     "name": "stdout",
     "output_type": "stream",
     "text": [
      "13\n"
     ]
    }
   ],
   "source": [
    "def main():\n",
    "\n",
    "    file = open(\"count.txt\",'r')\n",
    "    count = 0\n",
    "    for line in file:\n",
    "            count+=1\n",
    "\n",
    "    print (count)\n",
    "\n",
    "main ()"
   ]
  },
  {
   "cell_type": "code",
   "execution_count": 40,
   "metadata": {},
   "outputs": [
    {
     "name": "stdout",
     "output_type": "stream",
     "text": [
      "['1', '2', '3', '3', '5', '4', '5', '4']\n"
     ]
    }
   ],
   "source": [
    "p = \"12335454\"\n",
    "q = []\n",
    "for value in p:\n",
    "    q.append(value)\n",
    "for i in range(len(q)):\n",
    "    if not q[i] == q[i+1]:\n",
    "        q[i+1].insert = \n",
    "        \n",
    "\n",
    "\n",
    "        \n",
    "\n",
    "        \n",
    "\n",
    "   \n",
    "\n",
    "   \n",
    "    "
   ]
  },
  {
   "cell_type": "code",
   "execution_count": 6,
   "metadata": {},
   "outputs": [
    {
     "name": "stdout",
     "output_type": "stream",
     "text": [
      "[100, 400, 900, 1600, 2500]\n"
     ]
    }
   ],
   "source": [
    "l = [10,20,30,40,50]\n",
    "def area_circle(n):\n",
    "    area = n*n\n",
    "    return area\n",
    "print(list(map(area_circle,l)))"
   ]
  },
  {
   "cell_type": "code",
   "execution_count": 7,
   "metadata": {},
   "outputs": [
    {
     "name": "stdout",
     "output_type": "stream",
     "text": [
      "[100, 400, 900, 1600, 2500]\n"
     ]
    }
   ],
   "source": [
    "l = [10,20,30,40,50]\n",
    "\n",
    "print(list(map(lambda n:n*n,l)))"
   ]
  },
  {
   "cell_type": "code",
   "execution_count": 17,
   "metadata": {},
   "outputs": [
    {
     "name": "stdout",
     "output_type": "stream",
     "text": [
      "1 2 3 4\n"
     ]
    }
   ],
   "source": [
    "data = input()"
   ]
  },
  {
   "cell_type": "code",
   "execution_count": 21,
   "metadata": {},
   "outputs": [],
   "source": [
    "data = \"\".join(data)"
   ]
  },
  {
   "cell_type": "code",
   "execution_count": 25,
   "metadata": {},
   "outputs": [
    {
     "ename": "ValueError",
     "evalue": "invalid literal for int() with base 10: ' '",
     "output_type": "error",
     "traceback": [
      "\u001b[1;31m---------------------------------------------------------------------------\u001b[0m",
      "\u001b[1;31mValueError\u001b[0m                                Traceback (most recent call last)",
      "\u001b[1;32m<ipython-input-25-f158d22c627e>\u001b[0m in \u001b[0;36m<module>\u001b[1;34m\u001b[0m\n\u001b[1;32m----> 1\u001b[1;33m \u001b[0mdata\u001b[0m \u001b[1;33m=\u001b[0m \u001b[1;33m[\u001b[0m\u001b[0mint\u001b[0m\u001b[1;33m(\u001b[0m\u001b[0mn\u001b[0m\u001b[1;33m)\u001b[0m \u001b[1;32mfor\u001b[0m \u001b[0mn\u001b[0m \u001b[1;32min\u001b[0m \u001b[0mdata\u001b[0m\u001b[1;33m]\u001b[0m\u001b[1;33m\u001b[0m\u001b[1;33m\u001b[0m\u001b[0m\n\u001b[0m",
      "\u001b[1;32m<ipython-input-25-f158d22c627e>\u001b[0m in \u001b[0;36m<listcomp>\u001b[1;34m(.0)\u001b[0m\n\u001b[1;32m----> 1\u001b[1;33m \u001b[0mdata\u001b[0m \u001b[1;33m=\u001b[0m \u001b[1;33m[\u001b[0m\u001b[0mint\u001b[0m\u001b[1;33m(\u001b[0m\u001b[0mn\u001b[0m\u001b[1;33m)\u001b[0m \u001b[1;32mfor\u001b[0m \u001b[0mn\u001b[0m \u001b[1;32min\u001b[0m \u001b[0mdata\u001b[0m\u001b[1;33m]\u001b[0m\u001b[1;33m\u001b[0m\u001b[1;33m\u001b[0m\u001b[0m\n\u001b[0m",
      "\u001b[1;31mValueError\u001b[0m: invalid literal for int() with base 10: ' '"
     ]
    }
   ],
   "source": [
    "data = [int(n) for n in data]"
   ]
  },
  {
   "cell_type": "code",
   "execution_count": 24,
   "metadata": {},
   "outputs": [
    {
     "data": {
      "text/plain": [
       "['1', ' ', ' ', ' ', '2', ' ', ' ', ' ', '3', ' ', ' ', ' ', '4']"
      ]
     },
     "execution_count": 24,
     "metadata": {},
     "output_type": "execute_result"
    }
   ],
   "source": [
    "data"
   ]
  }
 ],
 "metadata": {
  "kernelspec": {
   "display_name": "Python 3",
   "language": "python",
   "name": "python3"
  },
  "language_info": {
   "codemirror_mode": {
    "name": "ipython",
    "version": 3
   },
   "file_extension": ".py",
   "mimetype": "text/x-python",
   "name": "python",
   "nbconvert_exporter": "python",
   "pygments_lexer": "ipython3",
   "version": "3.7.4"
  }
 },
 "nbformat": 4,
 "nbformat_minor": 2
}
