{
 "cells": [
  {
   "cell_type": "code",
   "execution_count": 19,
   "metadata": {},
   "outputs": [
    {
     "name": "stdout",
     "output_type": "stream",
     "text": [
      "{'id': 101, 'title': 'A', 'unitprice': 50}\n",
      "190\n"
     ]
    }
   ],
   "source": [
    "class product:\n",
    "    def __init__(self,id, title, unitprice):\n",
    "        self.id = id\n",
    "        self.title = title\n",
    "        self.unitprice = unitprice\n",
    "class Admin:\n",
    "    def add_product(self, id, title, unitprice):\n",
    "        p1 = product(id, title, unitprice)\n",
    "        return p1\n",
    "class customer:\n",
    "    def __init__(self):\n",
    "        self.cart = []\n",
    "    def add_cart(self,product,quantity):\n",
    "        self.cart.append((product,quantity))\n",
    "    def checkout(self):\n",
    "        return Billing.calculate_bill(self.cart)\n",
    "    \n",
    "class Billing:\n",
    "    \n",
    "    @classmethod\n",
    "    def calculate_bill(cls,cart):\n",
    "        bill_amount = 0\n",
    "        final_cart = {}\n",
    "        for product,quantity in cart:\n",
    "            bill_amount += product.unitprice * quantity\n",
    "            return bill_amount\n",
    "        \n",
    "admin = Admin()\n",
    "a = admin.add_product(101,\"A\",50)\n",
    "b = admin.add_product(102,\"B\",46)\n",
    "c = admin.add_product(103,\"C\",38)\n",
    "d = admin.add_product(104,\"D\",99)\n",
    "print(a.__dict__)\n",
    "\n",
    "cust1 = customer()\n",
    "cust2 = customer()\n",
    "cust3 = customer()\n",
    "cust1.add_cart(a,4)\n",
    "cust1.add_cart(b,4)\n",
    "p = cust2.add_cart(c,5)\n",
    "# print(p.__dict__)\n",
    "\n",
    "amount = cust1.checkout()\n",
    "amount1 = cust2.checkout()\n",
    "print(amount1)"
   ]
  },
  {
   "cell_type": "code",
   "execution_count": 32,
   "metadata": {},
   "outputs": [
    {
     "name": "stdout",
     "output_type": "stream",
     "text": [
      "450\n"
     ]
    }
   ],
   "source": [
    "class product:\n",
    "    def __init__(self, id, title, unitprice):\n",
    "        self.id = id\n",
    "        self.title = title\n",
    "        self.unitprice = unitprice\n",
    "class Admin:\n",
    "    def add_product(self, id , title, unitprice):\n",
    "        p1 = product(id , title, unitprice)\n",
    "        return p1\n",
    "class customer:\n",
    "    def __init__(self):\n",
    "        self.cart = []\n",
    "    def add_cart(self,product, quantity):\n",
    "        self.cart.append((product, quantity))\n",
    "    def checkout(self):\n",
    "        return billing.billing_bill(self.cart)\n",
    "    \n",
    "class billing:\n",
    "    \n",
    "    @classmethod\n",
    "    def billing_bill(cls,cart):\n",
    "        billing_amount = 0\n",
    "        for product,quantity in cart:\n",
    "            billing_amount+= product.unitprice * quantity\n",
    "            return billing_amount\n",
    "            \n",
    "    \n",
    "    \n",
    "    \n",
    "admin = Admin()\n",
    "a = admin.add_product(101,\"A\",50)\n",
    "b = admin.add_product(102,\"B\",40)\n",
    "c = admin.add_product(103,\"C\",30)\n",
    "d = admin.add_product(104,\"D\",20)\n",
    "\n",
    "cust1 = customer()\n",
    "cust2 = customer()\n",
    "cust1.add_cart(a,9)\n",
    "cust1.add_cart(b,8)\n",
    "cust1.add_cart(c,9)\n",
    "cust1.add_cart(d,9)\n",
    "cust2.add_cart(a,7)\n",
    "amount = cust1.checkout()\n",
    "print(amount)\n",
    "\n",
    "\n"
   ]
  },
  {
   "cell_type": "code",
   "execution_count": null,
   "metadata": {},
   "outputs": [],
   "source": []
  }
 ],
 "metadata": {
  "kernelspec": {
   "display_name": "Python 3",
   "language": "python",
   "name": "python3"
  },
  "language_info": {
   "codemirror_mode": {
    "name": "ipython",
    "version": 3
   },
   "file_extension": ".py",
   "mimetype": "text/x-python",
   "name": "python",
   "nbconvert_exporter": "python",
   "pygments_lexer": "ipython3",
   "version": "3.7.4"
  }
 },
 "nbformat": 4,
 "nbformat_minor": 2
}
