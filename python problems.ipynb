{
 "cells": [
  {
   "cell_type": "code",
   "execution_count": 1,
   "metadata": {},
   "outputs": [
    {
     "name": "stdout",
     "output_type": "stream",
     "text": [
      "45\n"
     ]
    }
   ],
   "source": [
    "print(45)"
   ]
  },
  {
   "cell_type": "code",
   "execution_count": 2,
   "metadata": {},
   "outputs": [
    {
     "name": "stdout",
     "output_type": "stream",
     "text": [
      "jgcjhehed\n"
     ]
    }
   ],
   "source": [
    "print(\"jgcjhehedb\")"
   ]
  },
  {
   "cell_type": "code",
   "execution_count": 5,
   "metadata": {},
   "outputs": [
    {
     "name": "stdout",
     "output_type": "stream",
     "text": [
      "4\n"
     ]
    }
   ],
   "source": [
    "print(4)"
   ]
  },
  {
   "cell_type": "code",
   "execution_count": 9,
   "metadata": {},
   "outputs": [
    {
     "data": {
      "text/plain": [
       "1150"
      ]
     },
     "execution_count": 9,
     "metadata": {},
     "output_type": "execute_result"
    }
   ],
   "source": [
    "\n",
    "# 5.Write a program to convert Integer to Roman String. For example, if a given integer is 5 then your program should print \"V\".\n",
    "# Function Name : int_roman Input : int Output : str\n",
    "\n",
    "def romanumber(s:str):\n",
    "    dic = {\n",
    "        \"I\" : 1,\n",
    "        \"V\" : 5,\n",
    "        \"X\" : 10,\n",
    "        \"L\" : 50,\n",
    "        \"C\" : 100,\n",
    "        \"D\" : 500,\n",
    "        \"M\" : 1000\n",
    "    }\n",
    "    \n",
    "    cur = 0\n",
    "    prev = 0\n",
    "    total = 0\n",
    "    for i in range(len(s)):\n",
    "        cur = dic[s[i]]\n",
    "        if cur > prev:\n",
    "            total = total + cur - (2*prev)\n",
    "        else:\n",
    "            total = total + cur \n",
    "        prev = cur\n",
    "    return total\n",
    "romanumber(\"MVCLV\")\n",
    "            \n",
    "            \n",
    "    "
   ]
  },
  {
   "cell_type": "code",
   "execution_count": null,
   "metadata": {},
   "outputs": [],
   "source": [
    "def romanumber(s:str):\n",
    "    dic = {\n",
    "        1:\"I\",\n",
    "        5:\"V\" ,\n",
    "        10:\"X\", \n",
    "        50:\"L\",\n",
    "        100:\"C\",\n",
    "        500:\"D\",\n",
    "        1000:\"M\"\n",
    "    }\n",
    "    \n",
    "    \n",
    "    prev = 0\n",
    "    total = 0\n",
    "    for i in range(len(s)):\n",
    "        cur = dic[s[i]]\n",
    "        \n",
    "       \n",
    "    return total\n",
    "romanumber(\"MVCLV\")\n",
    "            \n",
    "            "
   ]
  },
  {
   "cell_type": "code",
   "execution_count": 21,
   "metadata": {},
   "outputs": [
    {
     "data": {
      "text/plain": [
       "'C'"
      ]
     },
     "execution_count": 21,
     "metadata": {},
     "output_type": "execute_result"
    }
   ],
   "source": [
    "def int_roman(s):\n",
    "    s = int(s)\n",
    "    digit = [1000,900,500,400,100,90,50,40,10,9,5,4,1]\n",
    "    roman = [\"M\",\"CM\",\"D\",\"CD\",\"C\",\"XC\",\"L\",\"XL\",\"X\",\"IX\",\"V\",\"IV\",\"I\"]\n",
    "    romandigit = \"\"\n",
    "    k = 0\n",
    "    while s >0:\n",
    "        for _ in range (s//digit[k]):\n",
    "            romandigit += roman[k]\n",
    "            s-= digit[k]\n",
    "        k+=1\n",
    "    return romandigit\n",
    "int_roman (100)\n"
   ]
  },
  {
   "cell_type": "code",
   "execution_count": 11,
   "metadata": {},
   "outputs": [
    {
     "data": {
      "text/plain": [
       "1150"
      ]
     },
     "execution_count": 11,
     "metadata": {},
     "output_type": "execute_result"
    }
   ],
   "source": [
    "_"
   ]
  },
  {
   "cell_type": "code",
   "execution_count": null,
   "metadata": {},
   "outputs": [],
   "source": []
  }
 ],
 "metadata": {
  "kernelspec": {
   "display_name": "Python 3",
   "language": "python",
   "name": "python3"
  },
  "language_info": {
   "codemirror_mode": {
    "name": "ipython",
    "version": 3
   },
   "file_extension": ".py",
   "mimetype": "text/x-python",
   "name": "python",
   "nbconvert_exporter": "python",
   "pygments_lexer": "ipython3",
   "version": "3.7.4"
  }
 },
 "nbformat": 4,
 "nbformat_minor": 2
}
